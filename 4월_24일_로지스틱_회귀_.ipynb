{
  "nbformat": 4,
  "nbformat_minor": 0,
  "metadata": {
    "colab": {
      "name": "4월 24일 로지스틱 회귀 .ipynb",
      "provenance": [],
      "collapsed_sections": [],
      "toc_visible": true,
      "authorship_tag": "ABX9TyNReKbrh4b5l8lcuDmmmr0F",
      "include_colab_link": true
    },
    "kernelspec": {
      "name": "python3",
      "display_name": "Python 3"
    }
  },
  "cells": [
    {
      "cell_type": "markdown",
      "metadata": {
        "id": "view-in-github",
        "colab_type": "text"
      },
      "source": [
        "<a href=\"https://colab.research.google.com/github/lifod/TSC/blob/main/4%EC%9B%94_24%EC%9D%BC_%EB%A1%9C%EC%A7%80%EC%8A%A4%ED%8B%B1_%ED%9A%8C%EA%B7%80_.ipynb\" target=\"_parent\"><img src=\"https://colab.research.google.com/assets/colab-badge.svg\" alt=\"Open In Colab\"/></a>"
      ]
    },
    {
      "cell_type": "code",
      "metadata": {
        "colab": {
          "base_uri": "https://localhost:8080/"
        },
        "id": "iVX-pltapoYu",
        "outputId": "6358294e-4691-4e8d-c92b-e7ea87b0bc0b"
      },
      "source": [
        "#나눔바른고딕 폰트 설치 및 폰트 설정\n",
        "%config InlineBackend.figure_format = 'retina'\n",
        "\n",
        "!apt -qq -y install fonts-nanum > /dev/null"
      ],
      "execution_count": 1,
      "outputs": [
        {
          "output_type": "stream",
          "text": [
            "\n",
            "WARNING: apt does not have a stable CLI interface. Use with caution in scripts.\n",
            "\n"
          ],
          "name": "stdout"
        }
      ]
    },
    {
      "cell_type": "code",
      "metadata": {
        "id": "5PgJL7ymKZ6h"
      },
      "source": [
        "import matplotlib.font_manager as fm\n",
        "fontpath = '/usr/share/fonts/truetype/nanum/NanumBarunGothic.ttf'\n",
        "font = fm.FontProperties(fname=fontpath, size=9)\n",
        "\n",
        "import matplotlib.pyplot as plt\n",
        "fm._rebuild()\n",
        "plt.rcParams[\"font.family\"]='NanumBarunGothic'"
      ],
      "execution_count": 1,
      "outputs": []
    },
    {
      "cell_type": "markdown",
      "metadata": {
        "id": "HRgpiH-aOd2Z"
      },
      "source": [
        "### [1]로즈시틱 회귀의 활성함수 (Sigmoid)"
      ]
    },
    {
      "cell_type": "code",
      "metadata": {
        "colab": {
          "base_uri": "https://localhost:8080/",
          "height": 265
        },
        "id": "YKjPH8p2WRq2",
        "outputId": "69d02656-2078-4771-d0fe-05df45bc1661"
      },
      "source": [
        "import numpy as np\n",
        "import matplotlib.pyplot as plt\n",
        "\n",
        "def sigmoid(x):\n",
        "  return 1/(1+np.e**(-x))\n",
        "\n",
        "plt.rcParams['axes.unicode_minus']=False\n",
        "x=np.arange(-10,10)\n",
        "y=sigmoid(x)\n",
        "\n",
        "plt.plot(x,y,'r')\n",
        "plt.show()"
      ],
      "execution_count": 2,
      "outputs": [
        {
          "output_type": "display_data",
          "data": {
            "image/png": "[encoded data removed]",
            "text/plain": [
              "<Figure size 432x288 with 1 Axes>"
            ]
          },
          "metadata": {
            "tags": [],
            "needs_background": "light"
          }
        }
      ]
    },
    {
      "cell_type": "code",
      "metadata": {
        "colab": {
          "base_uri": "https://localhost:8080/",
          "height": 265
        },
        "id": "pNcIwy7bAUlT",
        "outputId": "3379eb5c-eaff-499b-e033-2e2b69e2d4c9"
      },
      "source": [
        "x=np.array([-10,-8,-7,-5,-3,-1,0,2,5,6,8,10])\n",
        "y=np.array([0,0,0,0,0,0,0,1,1,1,1,1])\n",
        "\n",
        "plt.plot(x,sigmoid(x),'b',x,y,'r.')\n",
        "plt.show()"
      ],
      "execution_count": 3,
      "outputs": [
        {
          "output_type": "display_data",
          "data": {
            "image/png": "[encoded data removed]",
            "text/plain": [
              "<Figure size 432x288 with 1 Axes>"
            ]
          },
          "metadata": {
            "tags": [],
            "needs_background": "light"
          }
        }
      ]
    },
    {
      "cell_type": "markdown",
      "metadata": {
        "id": "vgOSPTmReXLy"
      },
      "source": [
        "###[2]로지스틱회귀의 비용함수(Crossentropy)"
      ]
    },
    {
      "cell_type": "code",
      "metadata": {
        "id": "ipZJM5b2eUDc",
        "colab": {
          "base_uri": "https://localhost:8080/",
          "height": 363
        },
        "outputId": "3e24e5e3-2aec-45a2-f461-0a4affc9b7b4"
      },
      "source": [
        "x=np.linspace(0,1)\n",
        "plt.style.use('ggplot')\n",
        "plt.figure(figsize=(8,4))\n",
        "plt.xlabel('예측값',size=20)\n",
        "plt.ylabel('오차',size=20,labelpad=25,rotation=0)\n",
        "plt.plot(x,-(np.log(x)),'r',label='실제값=1')\n",
        "plt.plot(x,-np.log(1-x),'b',label='실제값=0')\n",
        "plt.legend(fontsize=15,loc=9)\n",
        "plt.show()"
      ],
      "execution_count": 4,
      "outputs": [
        {
          "output_type": "stream",
          "text": [
            "/usr/local/lib/python3.7/dist-packages/ipykernel_launcher.py:6: RuntimeWarning: divide by zero encountered in log\n",
            "  \n",
            "/usr/local/lib/python3.7/dist-packages/ipykernel_launcher.py:7: RuntimeWarning: divide by zero encountered in log\n",
            "  import sys\n"
          ],
          "name": "stderr"
        },
        {
          "output_type": "display_data",
          "data": {
            "image/png": "[encoded data removed]",
            "text/plain": [
              "<Figure size 576x288 with 1 Axes>"
            ]
          },
          "metadata": {
            "tags": []
          }
        }
      ]
    },
    {
      "cell_type": "code",
      "metadata": {
        "colab": {
          "base_uri": "https://localhost:8080/",
          "height": 1000
        },
        "id": "1jB90jmtotlR",
        "outputId": "bba4ee72-636b-410c-c2b4-8b6cc31b70d9"
      },
      "source": [
        "from tensorflow.keras.models import Sequential\n",
        "from tensorflow.keras.layers import Dense \n",
        "from tensorflow.keras import optimizers\n",
        "\n",
        "x=np.array([-10,-8,-7,-5,-3,-1,0,2,5,6,8,10])\n",
        "y=np.array([0,0,0,0,0,0,0,1,1,1,1,1])\n",
        "\n",
        "model=Sequential()\n",
        "\n",
        "model.add(Dense(1,input_dim=1,activation='sigmoid'))\n",
        "\n",
        "model.compile(optimizers.SGD(lr=0.01),loss='binary_crossentropy',metrics=['accuracy'])\n",
        "\n",
        "model.fit(x,y,batch_size=1,verbose=2,epochs=200)\n",
        "\n",
        "score=model.evaluate(x,y)\n",
        "\n",
        "print(\"\\n 모델 loss : %.4f, 모델 accuracy : %.4f\"%(score[0],score[1]))\n",
        "\n",
        "plt.plot(x,model.predict(x),'b',x,y,'r.')\n",
        "\n"
      ],
      "execution_count": 5,
      "outputs": [
        {
          "output_type": "stream",
          "text": [
            "Epoch 1/200\n",
            "12/12 - 0s - loss: 0.1651 - accuracy: 1.0000\n",
            "Epoch 2/200\n",
            "12/12 - 0s - loss: 0.1570 - accuracy: 1.0000\n",
            "Epoch 3/200\n",
            "12/12 - 0s - loss: 0.1505 - accuracy: 1.0000\n",
            "Epoch 4/200\n",
            "12/12 - 0s - loss: 0.1451 - accuracy: 1.0000\n",
            "Epoch 5/200\n",
            "12/12 - 0s - loss: 0.1404 - accuracy: 1.0000\n",
            "Epoch 6/200\n",
            "12/12 - 0s - loss: 0.1364 - accuracy: 1.0000\n",
            "Epoch 7/200\n",
            "12/12 - 0s - loss: 0.1328 - accuracy: 1.0000\n",
            "Epoch 8/200\n",
            "12/12 - 0s - loss: 0.1296 - accuracy: 1.0000\n",
            "Epoch 9/200\n",
            "12/12 - 0s - loss: 0.1267 - accuracy: 1.0000\n",
            "Epoch 10/200\n",
            "12/12 - 0s - loss: 0.1241 - accuracy: 1.0000\n",
            "Epoch 11/200\n",
            "12/12 - 0s - loss: 0.1217 - accuracy: 1.0000\n",
            "Epoch 12/200\n",
            "12/12 - 0s - loss: 0.1194 - accuracy: 1.0000\n",
            "Epoch 13/200\n",
            "12/12 - 0s - loss: 0.1174 - accuracy: 1.0000\n",
            "Epoch 14/200\n",
            "12/12 - 0s - loss: 0.1154 - accuracy: 1.0000\n",
            "Epoch 15/200\n",
            "12/12 - 0s - loss: 0.1136 - accuracy: 1.0000\n",
            "Epoch 16/200\n",
            "12/12 - 0s - loss: 0.1119 - accuracy: 1.0000\n",
            "Epoch 17/200\n",
            "12/12 - 0s - loss: 0.1103 - accuracy: 1.0000\n",
            "Epoch 18/200\n",
            "12/12 - 0s - loss: 0.1088 - accuracy: 1.0000\n",
            "Epoch 19/200\n",
            "12/12 - 0s - loss: 0.1074 - accuracy: 1.0000\n",
            "Epoch 20/200\n",
            "12/12 - 0s - loss: 0.1060 - accuracy: 1.0000\n",
            "Epoch 21/200\n",
            "12/12 - 0s - loss: 0.1047 - accuracy: 1.0000\n",
            "Epoch 22/200\n",
            "12/12 - 0s - loss: 0.1035 - accuracy: 1.0000\n",
            "Epoch 23/200\n",
            "12/12 - 0s - loss: 0.1023 - accuracy: 1.0000\n",
            "Epoch 24/200\n",
            "12/12 - 0s - loss: 0.1011 - accuracy: 1.0000\n",
            "Epoch 25/200\n",
            "12/12 - 0s - loss: 0.1000 - accuracy: 1.0000\n",
            "Epoch 26/200\n",
            "12/12 - 0s - loss: 0.0989 - accuracy: 1.0000\n",
            "Epoch 27/200\n",
            "12/12 - 0s - loss: 0.0979 - accuracy: 1.0000\n",
            "Epoch 28/200\n",
            "12/12 - 0s - loss: 0.0969 - accuracy: 1.0000\n",
            "Epoch 29/200\n",
            "12/12 - 0s - loss: 0.0960 - accuracy: 1.0000\n",
            "Epoch 30/200\n",
            "12/12 - 0s - loss: 0.0950 - accuracy: 1.0000\n",
            "Epoch 31/200\n",
            "12/12 - 0s - loss: 0.0941 - accuracy: 1.0000\n",
            "Epoch 32/200\n",
            "12/12 - 0s - loss: 0.0933 - accuracy: 1.0000\n",
            "Epoch 33/200\n",
            "12/12 - 0s - loss: 0.0924 - accuracy: 1.0000\n",
            "Epoch 34/200\n",
            "12/12 - 0s - loss: 0.0916 - accuracy: 1.0000\n",
            "Epoch 35/200\n",
            "12/12 - 0s - loss: 0.0908 - accuracy: 1.0000\n",
            "Epoch 36/200\n",
            "12/12 - 0s - loss: 0.0900 - accuracy: 1.0000\n",
            "Epoch 37/200\n",
            "12/12 - 0s - loss: 0.0893 - accuracy: 1.0000\n",
            "Epoch 38/200\n",
            "12/12 - 0s - loss: 0.0885 - accuracy: 1.0000\n",
            "Epoch 39/200\n",
            "12/12 - 0s - loss: 0.0878 - accuracy: 1.0000\n",
            "Epoch 40/200\n",
            "12/12 - 0s - loss: 0.0871 - accuracy: 1.0000\n",
            "Epoch 41/200\n",
            "12/12 - 0s - loss: 0.0864 - accuracy: 1.0000\n",
            "Epoch 42/200\n",
            "12/12 - 0s - loss: 0.0858 - accuracy: 1.0000\n",
            "Epoch 43/200\n",
            "12/12 - 0s - loss: 0.0851 - accuracy: 1.0000\n",
            "Epoch 44/200\n",
            "12/12 - 0s - loss: 0.0845 - accuracy: 1.0000\n",
            "Epoch 45/200\n",
            "12/12 - 0s - loss: 0.0839 - accuracy: 1.0000\n",
            "Epoch 46/200\n",
            "12/12 - 0s - loss: 0.0833 - accuracy: 1.0000\n",
            "Epoch 47/200\n",
            "12/12 - 0s - loss: 0.0827 - accuracy: 1.0000\n",
            "Epoch 48/200\n",
            "12/12 - 0s - loss: 0.0821 - accuracy: 1.0000\n",
            "Epoch 49/200\n",
            "12/12 - 0s - loss: 0.0815 - accuracy: 1.0000\n",
            "Epoch 50/200\n",
            "12/12 - 0s - loss: 0.0809 - accuracy: 1.0000\n",
            "Epoch 51/200\n",
            "12/12 - 0s - loss: 0.0804 - accuracy: 1.0000\n",
            "Epoch 52/200\n",
            "12/12 - 0s - loss: 0.0798 - accuracy: 1.0000\n",
            "Epoch 53/200\n",
            "12/12 - 0s - loss: 0.0793 - accuracy: 1.0000\n",
            "Epoch 54/200\n",
            "12/12 - 0s - loss: 0.0788 - accuracy: 1.0000\n",
            "Epoch 55/200\n",
            "12/12 - 0s - loss: 0.0783 - accuracy: 1.0000\n",
            "Epoch 56/200\n",
            "12/12 - 0s - loss: 0.0778 - accuracy: 1.0000\n",
            "Epoch 57/200\n",
            "12/12 - 0s - loss: 0.0773 - accuracy: 1.0000\n",
            "Epoch 58/200\n",
            "12/12 - 0s - loss: 0.0768 - accuracy: 1.0000\n",
            "Epoch 59/200\n",
            "12/12 - 0s - loss: 0.0763 - accuracy: 1.0000\n",
            "Epoch 60/200\n",
            "12/12 - 0s - loss: 0.0758 - accuracy: 1.0000\n",
            "Epoch 61/200\n",
            "12/12 - 0s - loss: 0.0754 - accuracy: 1.0000\n",
            "Epoch 62/200\n",
            "12/12 - 0s - loss: 0.0749 - accuracy: 1.0000\n",
            "Epoch 63/200\n",
            "12/12 - 0s - loss: 0.0745 - accuracy: 1.0000\n",
            "Epoch 64/200\n",
            "12/12 - 0s - loss: 0.0740 - accuracy: 1.0000\n",
            "Epoch 65/200\n",
            "12/12 - 0s - loss: 0.0736 - accuracy: 1.0000\n",
            "Epoch 66/200\n",
            "12/12 - 0s - loss: 0.0732 - accuracy: 1.0000\n",
            "Epoch 67/200\n",
            "12/12 - 0s - loss: 0.0728 - accuracy: 1.0000\n",
            "Epoch 68/200\n",
            "12/12 - 0s - loss: 0.0723 - accuracy: 1.0000\n",
            "Epoch 69/200\n",
            "12/12 - 0s - loss: 0.0719 - accuracy: 1.0000\n",
            "Epoch 70/200\n",
            "12/12 - 0s - loss: 0.0715 - accuracy: 1.0000\n",
            "Epoch 71/200\n",
            "12/12 - 0s - loss: 0.0711 - accuracy: 1.0000\n",
            "Epoch 72/200\n",
            "12/12 - 0s - loss: 0.0707 - accuracy: 1.0000\n",
            "Epoch 73/200\n",
            "12/12 - 0s - loss: 0.0704 - accuracy: 1.0000\n",
            "Epoch 74/200\n",
            "12/12 - 0s - loss: 0.0700 - accuracy: 1.0000\n",
            "Epoch 75/200\n",
            "12/12 - 0s - loss: 0.0696 - accuracy: 1.0000\n",
            "Epoch 76/200\n",
            "12/12 - 0s - loss: 0.0692 - accuracy: 1.0000\n",
            "Epoch 77/200\n",
            "12/12 - 0s - loss: 0.0689 - accuracy: 1.0000\n",
            "Epoch 78/200\n",
            "12/12 - 0s - loss: 0.0685 - accuracy: 1.0000\n",
            "Epoch 79/200\n",
            "12/12 - 0s - loss: 0.0682 - accuracy: 1.0000\n",
            "Epoch 80/200\n",
            "12/12 - 0s - loss: 0.0678 - accuracy: 1.0000\n",
            "Epoch 81/200\n",
            "12/12 - 0s - loss: 0.0675 - accuracy: 1.0000\n",
            "Epoch 82/200\n",
            "12/12 - 0s - loss: 0.0671 - accuracy: 1.0000\n",
            "Epoch 83/200\n",
            "12/12 - 0s - loss: 0.0668 - accuracy: 1.0000\n",
            "Epoch 84/200\n",
            "12/12 - 0s - loss: 0.0664 - accuracy: 1.0000\n",
            "Epoch 85/200\n",
            "12/12 - 0s - loss: 0.0661 - accuracy: 1.0000\n",
            "Epoch 86/200\n",
            "12/12 - 0s - loss: 0.0658 - accuracy: 1.0000\n",
            "Epoch 87/200\n",
            "12/12 - 0s - loss: 0.0655 - accuracy: 1.0000\n",
            "Epoch 88/200\n",
            "12/12 - 0s - loss: 0.0651 - accuracy: 1.0000\n",
            "Epoch 89/200\n",
            "12/12 - 0s - loss: 0.0648 - accuracy: 1.0000\n",
            "Epoch 90/200\n",
            "12/12 - 0s - loss: 0.0645 - accuracy: 1.0000\n",
            "Epoch 91/200\n",
            "12/12 - 0s - loss: 0.0642 - accuracy: 1.0000\n",
            "Epoch 92/200\n",
            "12/12 - 0s - loss: 0.0639 - accuracy: 1.0000\n",
            "Epoch 93/200\n",
            "12/12 - 0s - loss: 0.0636 - accuracy: 1.0000\n",
            "Epoch 94/200\n",
            "12/12 - 0s - loss: 0.0633 - accuracy: 1.0000\n",
            "Epoch 95/200\n",
            "12/12 - 0s - loss: 0.0630 - accuracy: 1.0000\n",
            "Epoch 96/200\n",
            "12/12 - 0s - loss: 0.0627 - accuracy: 1.0000\n",
            "Epoch 97/200\n",
            "12/12 - 0s - loss: 0.0624 - accuracy: 1.0000\n",
            "Epoch 98/200\n",
            "12/12 - 0s - loss: 0.0622 - accuracy: 1.0000\n",
            "Epoch 99/200\n",
            "12/12 - 0s - loss: 0.0619 - accuracy: 1.0000\n",
            "Epoch 100/200\n",
            "12/12 - 0s - loss: 0.0616 - accuracy: 1.0000\n",
            "Epoch 101/200\n",
            "12/12 - 0s - loss: 0.0613 - accuracy: 1.0000\n",
            "Epoch 102/200\n",
            "12/12 - 0s - loss: 0.0611 - accuracy: 1.0000\n",
            "Epoch 103/200\n",
            "12/12 - 0s - loss: 0.0608 - accuracy: 1.0000\n",
            "Epoch 104/200\n",
            "12/12 - 0s - loss: 0.0605 - accuracy: 1.0000\n",
            "Epoch 105/200\n",
            "12/12 - 0s - loss: 0.0603 - accuracy: 1.0000\n",
            "Epoch 106/200\n",
            "12/12 - 0s - loss: 0.0600 - accuracy: 1.0000\n",
            "Epoch 107/200\n",
            "12/12 - 0s - loss: 0.0597 - accuracy: 1.0000\n",
            "Epoch 108/200\n",
            "12/12 - 0s - loss: 0.0595 - accuracy: 1.0000\n",
            "Epoch 109/200\n",
            "12/12 - 0s - loss: 0.0592 - accuracy: 1.0000\n",
            "Epoch 110/200\n",
            "12/12 - 0s - loss: 0.0590 - accuracy: 1.0000\n",
            "Epoch 111/200\n",
            "12/12 - 0s - loss: 0.0587 - accuracy: 1.0000\n",
            "Epoch 112/200\n",
            "12/12 - 0s - loss: 0.0585 - accuracy: 1.0000\n",
            "Epoch 113/200\n",
            "12/12 - 0s - loss: 0.0582 - accuracy: 1.0000\n",
            "Epoch 114/200\n",
            "12/12 - 0s - loss: 0.0580 - accuracy: 1.0000\n",
            "Epoch 115/200\n",
            "12/12 - 0s - loss: 0.0578 - accuracy: 1.0000\n",
            "Epoch 116/200\n",
            "12/12 - 0s - loss: 0.0575 - accuracy: 1.0000\n",
            "Epoch 117/200\n",
            "12/12 - 0s - loss: 0.0573 - accuracy: 1.0000\n",
            "Epoch 118/200\n",
            "12/12 - 0s - loss: 0.0571 - accuracy: 1.0000\n",
            "Epoch 119/200\n",
            "12/12 - 0s - loss: 0.0568 - accuracy: 1.0000\n",
            "Epoch 120/200\n",
            "12/12 - 0s - loss: 0.0566 - accuracy: 1.0000\n",
            "Epoch 121/200\n",
            "12/12 - 0s - loss: 0.0564 - accuracy: 1.0000\n",
            "Epoch 122/200\n",
            "12/12 - 0s - loss: 0.0562 - accuracy: 1.0000\n",
            "Epoch 123/200\n",
            "12/12 - 0s - loss: 0.0559 - accuracy: 1.0000\n",
            "Epoch 124/200\n",
            "12/12 - 0s - loss: 0.0557 - accuracy: 1.0000\n",
            "Epoch 125/200\n",
            "12/12 - 0s - loss: 0.0555 - accuracy: 1.0000\n",
            "Epoch 126/200\n",
            "12/12 - 0s - loss: 0.0553 - accuracy: 1.0000\n",
            "Epoch 127/200\n",
            "12/12 - 0s - loss: 0.0551 - accuracy: 1.0000\n",
            "Epoch 128/200\n",
            "12/12 - 0s - loss: 0.0549 - accuracy: 1.0000\n",
            "Epoch 129/200\n",
            "12/12 - 0s - loss: 0.0546 - accuracy: 1.0000\n",
            "Epoch 130/200\n",
            "12/12 - 0s - loss: 0.0544 - accuracy: 1.0000\n",
            "Epoch 131/200\n",
            "12/12 - 0s - loss: 0.0542 - accuracy: 1.0000\n",
            "Epoch 132/200\n",
            "12/12 - 0s - loss: 0.0540 - accuracy: 1.0000\n",
            "Epoch 133/200\n",
            "12/12 - 0s - loss: 0.0538 - accuracy: 1.0000\n",
            "Epoch 134/200\n",
            "12/12 - 0s - loss: 0.0536 - accuracy: 1.0000\n",
            "Epoch 135/200\n",
            "12/12 - 0s - loss: 0.0534 - accuracy: 1.0000\n",
            "Epoch 136/200\n",
            "12/12 - 0s - loss: 0.0532 - accuracy: 1.0000\n",
            "Epoch 137/200\n",
            "12/12 - 0s - loss: 0.0530 - accuracy: 1.0000\n",
            "Epoch 138/200\n",
            "12/12 - 0s - loss: 0.0528 - accuracy: 1.0000\n",
            "Epoch 139/200\n",
            "12/12 - 0s - loss: 0.0526 - accuracy: 1.0000\n",
            "Epoch 140/200\n",
            "12/12 - 0s - loss: 0.0524 - accuracy: 1.0000\n",
            "Epoch 141/200\n",
            "12/12 - 0s - loss: 0.0523 - accuracy: 1.0000\n",
            "Epoch 142/200\n",
            "12/12 - 0s - loss: 0.0521 - accuracy: 1.0000\n",
            "Epoch 143/200\n",
            "12/12 - 0s - loss: 0.0519 - accuracy: 1.0000\n",
            "Epoch 144/200\n",
            "12/12 - 0s - loss: 0.0517 - accuracy: 1.0000\n",
            "Epoch 145/200\n",
            "12/12 - 0s - loss: 0.0515 - accuracy: 1.0000\n",
            "Epoch 146/200\n",
            "12/12 - 0s - loss: 0.0513 - accuracy: 1.0000\n",
            "Epoch 147/200\n",
            "12/12 - 0s - loss: 0.0512 - accuracy: 1.0000\n",
            "Epoch 148/200\n",
            "12/12 - 0s - loss: 0.0510 - accuracy: 1.0000\n",
            "Epoch 149/200\n",
            "12/12 - 0s - loss: 0.0508 - accuracy: 1.0000\n",
            "Epoch 150/200\n",
            "12/12 - 0s - loss: 0.0506 - accuracy: 1.0000\n",
            "Epoch 151/200\n",
            "12/12 - 0s - loss: 0.0504 - accuracy: 1.0000\n",
            "Epoch 152/200\n",
            "12/12 - 0s - loss: 0.0503 - accuracy: 1.0000\n",
            "Epoch 153/200\n",
            "12/12 - 0s - loss: 0.0501 - accuracy: 1.0000\n",
            "Epoch 154/200\n",
            "12/12 - 0s - loss: 0.0499 - accuracy: 1.0000\n",
            "Epoch 155/200\n",
            "12/12 - 0s - loss: 0.0498 - accuracy: 1.0000\n",
            "Epoch 156/200\n",
            "12/12 - 0s - loss: 0.0496 - accuracy: 1.0000\n",
            "Epoch 157/200\n",
            "12/12 - 0s - loss: 0.0494 - accuracy: 1.0000\n",
            "Epoch 158/200\n",
            "12/12 - 0s - loss: 0.0493 - accuracy: 1.0000\n",
            "Epoch 159/200\n",
            "12/12 - 0s - loss: 0.0491 - accuracy: 1.0000\n",
            "Epoch 160/200\n",
            "12/12 - 0s - loss: 0.0489 - accuracy: 1.0000\n",
            "Epoch 161/200\n",
            "12/12 - 0s - loss: 0.0488 - accuracy: 1.0000\n",
            "Epoch 162/200\n",
            "12/12 - 0s - loss: 0.0486 - accuracy: 1.0000\n",
            "Epoch 163/200\n",
            "12/12 - 0s - loss: 0.0484 - accuracy: 1.0000\n",
            "Epoch 164/200\n",
            "12/12 - 0s - loss: 0.0483 - accuracy: 1.0000\n",
            "Epoch 165/200\n",
            "12/12 - 0s - loss: 0.0481 - accuracy: 1.0000\n",
            "Epoch 166/200\n",
            "12/12 - 0s - loss: 0.0480 - accuracy: 1.0000\n",
            "Epoch 167/200\n",
            "12/12 - 0s - loss: 0.0478 - accuracy: 1.0000\n",
            "Epoch 168/200\n",
            "12/12 - 0s - loss: 0.0477 - accuracy: 1.0000\n",
            "Epoch 169/200\n",
            "12/12 - 0s - loss: 0.0475 - accuracy: 1.0000\n",
            "Epoch 170/200\n",
            "12/12 - 0s - loss: 0.0474 - accuracy: 1.0000\n",
            "Epoch 171/200\n",
            "12/12 - 0s - loss: 0.0472 - accuracy: 1.0000\n",
            "Epoch 172/200\n",
            "12/12 - 0s - loss: 0.0470 - accuracy: 1.0000\n",
            "Epoch 173/200\n",
            "12/12 - 0s - loss: 0.0469 - accuracy: 1.0000\n",
            "Epoch 174/200\n",
            "12/12 - 0s - loss: 0.0468 - accuracy: 1.0000\n",
            "Epoch 175/200\n",
            "12/12 - 0s - loss: 0.0466 - accuracy: 1.0000\n",
            "Epoch 176/200\n",
            "12/12 - 0s - loss: 0.0465 - accuracy: 1.0000\n",
            "Epoch 177/200\n",
            "12/12 - 0s - loss: 0.0463 - accuracy: 1.0000\n",
            "Epoch 178/200\n",
            "12/12 - 0s - loss: 0.0462 - accuracy: 1.0000\n",
            "Epoch 179/200\n",
            "12/12 - 0s - loss: 0.0460 - accuracy: 1.0000\n",
            "Epoch 180/200\n",
            "12/12 - 0s - loss: 0.0459 - accuracy: 1.0000\n",
            "Epoch 181/200\n",
            "12/12 - 0s - loss: 0.0457 - accuracy: 1.0000\n",
            "Epoch 182/200\n",
            "12/12 - 0s - loss: 0.0456 - accuracy: 1.0000\n",
            "Epoch 183/200\n",
            "12/12 - 0s - loss: 0.0455 - accuracy: 1.0000\n",
            "Epoch 184/200\n",
            "12/12 - 0s - loss: 0.0453 - accuracy: 1.0000\n",
            "Epoch 185/200\n",
            "12/12 - 0s - loss: 0.0452 - accuracy: 1.0000\n",
            "Epoch 186/200\n",
            "12/12 - 0s - loss: 0.0451 - accuracy: 1.0000\n",
            "Epoch 187/200\n",
            "12/12 - 0s - loss: 0.0449 - accuracy: 1.0000\n",
            "Epoch 188/200\n",
            "12/12 - 0s - loss: 0.0448 - accuracy: 1.0000\n",
            "Epoch 189/200\n",
            "12/12 - 0s - loss: 0.0446 - accuracy: 1.0000\n",
            "Epoch 190/200\n",
            "12/12 - 0s - loss: 0.0445 - accuracy: 1.0000\n",
            "Epoch 191/200\n",
            "12/12 - 0s - loss: 0.0444 - accuracy: 1.0000\n",
            "Epoch 192/200\n",
            "12/12 - 0s - loss: 0.0443 - accuracy: 1.0000\n",
            "Epoch 193/200\n",
            "12/12 - 0s - loss: 0.0441 - accuracy: 1.0000\n",
            "Epoch 194/200\n",
            "12/12 - 0s - loss: 0.0440 - accuracy: 1.0000\n",
            "Epoch 195/200\n",
            "12/12 - 0s - loss: 0.0439 - accuracy: 1.0000\n",
            "Epoch 196/200\n",
            "12/12 - 0s - loss: 0.0437 - accuracy: 1.0000\n",
            "Epoch 197/200\n",
            "12/12 - 0s - loss: 0.0436 - accuracy: 1.0000\n",
            "Epoch 198/200\n",
            "12/12 - 0s - loss: 0.0435 - accuracy: 1.0000\n",
            "Epoch 199/200\n",
            "12/12 - 0s - loss: 0.0434 - accuracy: 1.0000\n",
            "Epoch 200/200\n",
            "12/12 - 0s - loss: 0.0432 - accuracy: 1.0000\n",
            "1/1 [==============================] - 0s 161ms/step - loss: 0.0431 - accuracy: 1.0000\n",
            "\n",
            " 모델 loss : 0.0431, 모델 accuracy : 1.0000\n"
          ],
          "name": "stdout"
        },
        {
          "output_type": "execute_result",
          "data": {
            "text/plain": [
              "[<matplotlib.lines.Line2D at 0x7fef8e9f2490>,\n",
              " <matplotlib.lines.Line2D at 0x7fef8e9ec610>]"
            ]
          },
          "metadata": {
            "tags": []
          },
          "execution_count": 5
        },
        {
          "output_type": "display_data",
          "data": {
            "image/png": "[encoded data removed]",
            "text/plain": [
              "<Figure size 432x288 with 1 Axes>"
            ]
          },
          "metadata": {
            "tags": []
          }
        }
      ]
    }
  ]
}