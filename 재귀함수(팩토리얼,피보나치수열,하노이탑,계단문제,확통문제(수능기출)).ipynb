{
  "nbformat": 4,
  "nbformat_minor": 0,
  "metadata": {
    "colab": {
      "name": "재귀함수(팩토리얼,피보나치수열,하노이탑,계단문제,확통문제(수능기출)).ipynb",
      "provenance": [],
      "collapsed_sections": [],
      "authorship_tag": "ABX9TyPDqJbw+YfUlQ2zoMXPpTEH",
      "include_colab_link": true
    },
    "kernelspec": {
      "name": "python3",
      "display_name": "Python 3"
    }
  },
  "cells": [
    {
      "cell_type": "markdown",
      "metadata": {
        "id": "view-in-github",
        "colab_type": "text"
      },
      "source": [
        "<a href=\"https://colab.research.google.com/github/lifod/TSC/blob/main/%EC%9E%AC%EA%B7%80%ED%95%A8%EC%88%98(%ED%8C%A9%ED%86%A0%EB%A6%AC%EC%96%BC%2C%ED%94%BC%EB%B3%B4%EB%82%98%EC%B9%98%EC%88%98%EC%97%B4%2C%ED%95%98%EB%85%B8%EC%9D%B4%ED%83%91%2C%EA%B3%84%EB%8B%A8%EB%AC%B8%EC%A0%9C%2C%ED%99%95%ED%86%B5%EB%AC%B8%EC%A0%9C(%EC%88%98%EB%8A%A5%EA%B8%B0%EC%B6%9C)).ipynb\" target=\"_parent\"><img src=\"https://colab.research.google.com/assets/colab-badge.svg\" alt=\"Open In Colab\"/></a>"
      ]
    },
    {
      "cell_type": "markdown",
      "metadata": {
        "id": "R7QgrwvseW6G"
      },
      "source": [
        "#▶ 팩토리얼\n",
        "\n",
        "\n",
        "\n",
        "\n",
        "\n",
        "\n"
      ]
    },
    {
      "cell_type": "code",
      "metadata": {
        "id": "G6gkEbOrfOIL",
        "colab": {
          "base_uri": "https://localhost:8080/"
        },
        "outputId": "7c14f649-605f-4368-93c0-5f07d44191ff"
      },
      "source": [
        "def facto(n):\n",
        "\n",
        "  if n==0:\n",
        "    return 1\n",
        "\n",
        "  else:\n",
        "    return n*(facto(n-1))\n",
        "\n",
        "facto(4)"
      ],
      "execution_count": null,
      "outputs": [
        {
          "output_type": "execute_result",
          "data": {
            "text/plain": [
              "24"
            ]
          },
          "metadata": {
            "tags": []
          },
          "execution_count": 16
        }
      ]
    },
    {
      "cell_type": "markdown",
      "metadata": {
        "id": "LP27OF9PfPe2"
      },
      "source": [
        "#▶ 피보나치수열\n"
      ]
    },
    {
      "cell_type": "code",
      "metadata": {
        "id": "nCi-0RtBfo68"
      },
      "source": [
        "def Fibonacci(n):\n",
        "  if n==1:\n",
        "    return 1\n",
        "  elif n==2:\n",
        "    return 1\n",
        "  else :\n",
        "    return Fibonacci(n-1)+Fibonacci(n-2)\n",
        "\n",
        "print(Fibonacci(7))"
      ],
      "execution_count": null,
      "outputs": []
    },
    {
      "cell_type": "code",
      "metadata": {
        "colab": {
          "base_uri": "https://localhost:8080/"
        },
        "id": "V6yutNlGV99f",
        "outputId": "d1c2b741-9ecf-4e97-9b00-5f619574c081"
      },
      "source": [
        "counter=0\n",
        "\n",
        "def Fibonacci(n):\n",
        "  global counter\n",
        "  counter+=1\n",
        "\n",
        "  if n==1:\n",
        "    return 1\n",
        "  elif n==2:\n",
        "    return 1\n",
        "  else :\n",
        "    return Fibonacci(n-1)+Fibonacci(n-2)\n",
        "\n",
        "print(Fibonacci(7))\n",
        "print(counter)"
      ],
      "execution_count": null,
      "outputs": [
        {
          "output_type": "stream",
          "text": [
            "13\n",
            "25\n"
          ],
          "name": "stdout"
        }
      ]
    },
    {
      "cell_type": "markdown",
      "metadata": {
        "id": "xQ6Tu53vg_ke"
      },
      "source": [
        "#▶ 피보나치 수열2 (리스트 사용)"
      ]
    },
    {
      "cell_type": "code",
      "metadata": {
        "colab": {
          "base_uri": "https://localhost:8080/"
        },
        "id": "6OulqfzuVuAw",
        "outputId": "c5ea6487-487f-43ea-c9eb-7bda84c22e99"
      },
      "source": [
        "n=int(input(\"피보나치 수열의 몇 번째 항을 구하고 싶은가요?>>\"))\n",
        "\n",
        "print()\n",
        "\n",
        "p=[1,1]\n",
        "\n",
        "if n<=2:\n",
        "    print(p[n-1])\n",
        "    \n",
        "elif n>=3:\n",
        "    for i in range(2,n):\n",
        "        p.append(p[-1]+p[-2])\n",
        "    print(p[-1])"
      ],
      "execution_count": null,
      "outputs": [
        {
          "output_type": "stream",
          "text": [
            "피보나치 수열의 몇 번째 항을 구하고 싶은가요?>>6\n",
            "\n",
            "8\n"
          ],
          "name": "stdout"
        }
      ]
    },
    {
      "cell_type": "markdown",
      "metadata": {
        "id": "Bz8IfhDDfpl8"
      },
      "source": [
        "#▶ 하노이 탑"
      ]
    },
    {
      "cell_type": "code",
      "metadata": {
        "colab": {
          "base_uri": "https://localhost:8080/"
        },
        "id": "2AzSd8Mf4mVH",
        "outputId": "e1970fac-8368-4f81-eb86-e20bc8f54276"
      },
      "source": [
        "def hanoi(n,시작,보조,목표):\n",
        "  if n==1:\n",
        "    print(시작, \"->\" ,목표)\n",
        "    \n",
        "  else :\n",
        "    hanoi(n-1,시작,목표,보조)\n",
        "    print(시작,\"->\",목표)\n",
        "    hanoi(n-1,보조,시작,목표)\n",
        "\n",
        "hanoi(3,1,2,3)"
      ],
      "execution_count": null,
      "outputs": [
        {
          "output_type": "stream",
          "text": [
            "1 -> 3\n",
            "1 -> 2\n",
            "3 -> 2\n",
            "1 -> 3\n",
            "2 -> 1\n",
            "2 -> 3\n",
            "1 -> 3\n"
          ],
          "name": "stdout"
        }
      ]
    },
    {
      "cell_type": "code",
      "metadata": {
        "colab": {
          "base_uri": "https://localhost:8080/"
        },
        "id": "g4uV5gLobu-J",
        "outputId": "94784ca1-a907-4781-db84-62d39375f934"
      },
      "source": [
        "counter=0\n",
        "\n",
        "def hanoi(n,시작,보조,목표):\n",
        "  global counter\n",
        "  counter+=1\n",
        "\n",
        "  if n==1:\n",
        "    print(시작, \"->\" ,목표)\n",
        "    \n",
        "  else :\n",
        "    hanoi(n-1,시작,목표,보조)\n",
        "    print(시작,\"->\",목표)\n",
        "    hanoi(n-1,보조,시작,목표)\n",
        "\n",
        "hanoi(4,1,2,3)\n",
        "print(counter)\n"
      ],
      "execution_count": null,
      "outputs": [
        {
          "output_type": "stream",
          "text": [
            "1 -> 2\n",
            "1 -> 3\n",
            "2 -> 3\n",
            "1 -> 2\n",
            "3 -> 1\n",
            "3 -> 2\n",
            "1 -> 2\n",
            "1 -> 3\n",
            "2 -> 3\n",
            "2 -> 1\n",
            "3 -> 1\n",
            "2 -> 3\n",
            "1 -> 2\n",
            "1 -> 3\n",
            "2 -> 3\n",
            "15\n"
          ],
          "name": "stdout"
        }
      ]
    },
    {
      "cell_type": "markdown",
      "metadata": {
        "id": "k4YbBdo9JlYN"
      },
      "source": [
        "#▶ 계단 문제"
      ]
    },
    {
      "cell_type": "code",
      "metadata": {
        "colab": {
          "base_uri": "https://localhost:8080/"
        },
        "id": "vBZiBihDJqCN",
        "outputId": "ff31d054-07dd-44b4-fce9-18b9fee1b4db"
      },
      "source": [
        "def Stair(n):\n",
        "  if 1<=n<=2:\n",
        "    return 1\n",
        "  elif n==3:\n",
        "    return 2\n",
        "  else:\n",
        "    return Stair(n-1)+Stair(n-3)\n",
        "\n",
        "print(Stair(8))\n"
      ],
      "execution_count": 3,
      "outputs": [
        {
          "output_type": "stream",
          "text": [
            "13\n"
          ],
          "name": "stdout"
        }
      ]
    },
    {
      "cell_type": "code",
      "metadata": {
        "colab": {
          "base_uri": "https://localhost:8080/"
        },
        "id": "yKtmUu2yKux9",
        "outputId": "232616af-ddc5-4d17-f74d-6b9ff26e494a"
      },
      "source": [
        "def Stair(n):\n",
        "  if n==1:\n",
        "    return 1\n",
        "  elif n==2:\n",
        "    return 2\n",
        "  elif n==3:\n",
        "    return 4\n",
        "  else:\n",
        "    return Stair(n-1)+Stair(n-2)+Stair(n-3)\n",
        "\n",
        "print(Stair(8))"
      ],
      "execution_count": 4,
      "outputs": [
        {
          "output_type": "stream",
          "text": [
            "81\n"
          ],
          "name": "stdout"
        }
      ]
    },
    {
      "cell_type": "markdown",
      "metadata": {
        "id": "kN4WZztmLOKL"
      },
      "source": [
        "#▶ 실전 : 모의고사 확률문제(2010년 3월 고3 가형 16번)"
      ]
    },
    {
      "cell_type": "code",
      "metadata": {
        "colab": {
          "base_uri": "https://localhost:8080/"
        },
        "id": "DWORHpLELS41",
        "outputId": "d66a2b64-218d-4be4-d331-57262a15b5d0"
      },
      "source": [
        "def my_move(n):\n",
        "  if n%2==1:\n",
        "    return 0\n",
        "\n",
        "  elif n==2:\n",
        "    return 1/2\n",
        "\n",
        "  else:\n",
        "    return my_move(n-2)*(1/2)\n",
        "\n",
        "my_move(16)"
      ],
      "execution_count": 9,
      "outputs": [
        {
          "output_type": "execute_result",
          "data": {
            "text/plain": [
              "0.00390625"
            ]
          },
          "metadata": {
            "tags": []
          },
          "execution_count": 9
        }
      ]
    }
  ]
}