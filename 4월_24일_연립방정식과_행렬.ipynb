{
  "nbformat": 4,
  "nbformat_minor": 0,
  "metadata": {
    "colab": {
      "name": "4월 24일 연립방정식과 행렬.ipynb",
      "provenance": [],
      "collapsed_sections": [],
      "authorship_tag": "ABX9TyNyXZmY8IV2hxLOipxT9Mte",
      "include_colab_link": true
    },
    "kernelspec": {
      "name": "python3",
      "display_name": "Python 3"
    }
  },
  "cells": [
    {
      "cell_type": "markdown",
      "metadata": {
        "id": "view-in-github",
        "colab_type": "text"
      },
      "source": [
        "<a href=\"https://colab.research.google.com/github/lifod/TSC/blob/main/4%EC%9B%94_24%EC%9D%BC_%EC%97%B0%EB%A6%BD%EB%B0%A9%EC%A0%95%EC%8B%9D%EA%B3%BC_%ED%96%89%EB%A0%AC.ipynb\" target=\"_parent\"><img src=\"https://colab.research.google.com/assets/colab-badge.svg\" alt=\"Open In Colab\"/></a>"
      ]
    },
    {
      "cell_type": "markdown",
      "metadata": {
        "id": "uBiYQCT2iHHb"
      },
      "source": [
        "###[1] 행렬의 원소가 될 a, b, c, d, e, f를 설정 [float, input 사용]\n"
      ]
    },
    {
      "cell_type": "code",
      "metadata": {
        "colab": {
          "base_uri": "https://localhost:8080/"
        },
        "id": "lDo4_6cEiXjE",
        "outputId": "be32def8-fa88-4122-854d-df92cda4661b"
      },
      "source": [
        "a=float(input(\"a를 입력해주세요\"))\n",
        "b=float(input(\"b를 입력해주세요\"))\n",
        "c=float(input(\"c를 입력해주세요\"))\n",
        "d=float(input(\"d를 입력해주세요\"))\n",
        "e=float(input(\"e를 입력해주세요\"))\n",
        "f=float(input(\"f를 입력해주세요\"))"
      ],
      "execution_count": 1,
      "outputs": [
        {
          "output_type": "stream",
          "text": [
            "a를 입력해주세요3\n",
            "b를 입력해주세요7\n",
            "c를 입력해주세요2\n",
            "d를 입력해주세요8\n",
            "e를 입력해주세요1\n",
            "f를 입력해주세요8\n"
          ],
          "name": "stdout"
        }
      ]
    },
    {
      "cell_type": "markdown",
      "metadata": {
        "id": "dZJWMVWbigI8"
      },
      "source": [
        "###[2]numpy 모듈을 import한 후 numpy 배열로 행렬을 설정해주세요\n"
      ]
    },
    {
      "cell_type": "code",
      "metadata": {
        "id": "H0NytyLwjAbG",
        "colab": {
          "base_uri": "https://localhost:8080/"
        },
        "outputId": "eaba60f2-ad1e-4148-88ee-8cef085b47f7"
      },
      "source": [
        "import numpy as np \n",
        "\n",
        "my_equ=np.array([[a,b,e],\n",
        "                  [c,d,f]])   \n",
        "\n",
        "my_copy=np.array([[0,0,0],\n",
        "                  [0,0,0]]) \n"
      ],
      "execution_count": null,
      "outputs": [
        {
          "output_type": "stream",
          "text": [
            "[[1 1 1]\n",
            " [1 1 1]]\n"
          ],
          "name": "stdout"
        }
      ]
    },
    {
      "cell_type": "markdown",
      "metadata": {
        "id": "3SiBA-T6jHew"
      },
      "source": [
        "###[3]기본 행 연산을 수행할 수 있는 함수 3개를 만들어 주세요 "
      ]
    },
    {
      "cell_type": "code",
      "metadata": {
        "id": "eIa11MRojbI6"
      },
      "source": [
        "def ero1(x,y):     \n",
        "  global my_equ  \n",
        "  my_equ[x]=my_equ[x]*1/my_equ[x][y]  \n",
        "\n",
        "\n",
        "def ero2(x,y,z): \n",
        "  global my_equ \n",
        "  my_equ[y]=my_equ[y]-my_equ[x]*my_equ[y][z]  \n",
        "\n",
        "\n",
        "def ero3():       \n",
        "  global my_equ  \n",
        "  global my_copy \n",
        "  my_copy[0]=my_equ[1]\n",
        "  my_copy[1]=my_equ[0]\n",
        "  my_equ=my_copy          "
      ],
      "execution_count": null,
      "outputs": []
    },
    {
      "cell_type": "markdown",
      "metadata": {
        "id": "VsgF92m6uS7I"
      },
      "source": [
        "###[4]ad-bc, af-ce의 값에 따라 결정되는 해의 존재성을 구현하고 해가 존재할 경우 해를 표현해주세요"
      ]
    },
    {
      "cell_type": "code",
      "metadata": {
        "id": "tSyeRZwVuq4f"
      },
      "source": [
        "if a*d-b*c==0:\n",
        "\n",
        "  if a*f-c*e==0:\n",
        "    print(\"무수히 많은 해가 존재합니다.\")\n",
        "\n",
        "  else:\n",
        "    print(\"해가 존재하지 않습니다\")\n",
        "  \n",
        "else:\n",
        "  if a==0: \n",
        "    ero3()\n",
        "    ero1(0,0) \n",
        "    ero2(0,1,0)\n",
        "    ero1(1,1)\n",
        "    ero2(1,0,1)\n",
        "    print(\"해는 (x,y)=(%f,%f)입니다\"%(my_equ[0][2],my_equ[1][2]))\n",
        "  else:\n",
        "    ero1(0,0)\n",
        "    ero2(0,1,0)\n",
        "    ero1(1,1)\n",
        "    ero2(1,0,1)\n",
        "    print(\"해는 (x,y)=(%f,%f)입니다\"%(my_equ[0][2],my_equ[1][2]))"
      ],
      "execution_count": null,
      "outputs": []
    },
    {
      "cell_type": "markdown",
      "metadata": {
        "id": "e7kfUjS_uwu7"
      },
      "source": [
        "###최종 코드"
      ]
    },
    {
      "cell_type": "code",
      "metadata": {
        "colab": {
          "base_uri": "https://localhost:8080/"
        },
        "id": "QyoKtquQf2DB",
        "outputId": "28bc800f-0119-44b2-ea8f-e85e8eabe3bc"
      },
      "source": [
        "a=float(input(\"a를 입력해주세요\"))\n",
        "b=float(input(\"b를 입력해주세요\"))\n",
        "c=float(input(\"c를 입력해주세요\"))\n",
        "d=float(input(\"d를 입력해주세요\"))\n",
        "e=float(input(\"e를 입력해주세요\"))\n",
        "f=float(input(\"f를 입력해주세요\"))\n",
        "\n",
        "import numpy as np         #넘파이 라이브러리를 np로 import합니다(약칭)\n",
        "my_equ=np.array([[a,b,e],\n",
        "                  [c,d,f]])     #계수행렬에 상수항을 첨가한 행렬을 정의합니다.\n",
        "my_copy=np.array([[0,0,0],\n",
        "                  [0,0,0]])     # 영행렬 정의 - 행교환에서 사용하기 위해 \n",
        "\n",
        "def ero1(x,y):     #기본행연산 (곱)\n",
        "  global my_equ   #함수 외부에 있는 변수 설정\n",
        "  my_equ[x]=my_equ[x]*1/my_equ[x][y]  # x행을 (x,y)성분으로 나눈다.\n",
        "\n",
        "def ero2(x,y,z):  #기본행연산(한 행의 배수를 다른행에 더함)\n",
        "  global my_equ  #함수 외부에 있는 변수 설정\n",
        "  my_equ[y]=my_equ[y]-my_equ[x]*my_equ[y][z]  # x행에 (y,z)성분을 곱한 후 y행에서 뺀다.\n",
        "\n",
        "\n",
        "def ero3():       #기본행연산(두 행을 교환)\n",
        "  global my_equ  #함수 외부에 있는 변수 설정\n",
        "  global my_copy  #함수 외부에 있는 변수 설정\n",
        "  my_copy[0]=my_equ[1]\n",
        "  my_copy[1]=my_equ[0]\n",
        "  my_equ=my_copy            #영행렬에 바뀐 행을 저장 후 행렬로 다시 지정함.\n",
        "\n",
        "if a*d-b*c==0:\n",
        "\n",
        "  if a*f-c*e==0:\n",
        "    print(\"무수히 많은 해가 존재합니다.\")\n",
        "\n",
        "  else:\n",
        "    print(\"해가 존재하지 않습니다\")\n",
        "  \n",
        "else:\n",
        "  if a==0: \n",
        "    ero3()\n",
        "    ero1(0,0) #동일하게 반복되는 부분에 대한 함수를 새롭게 정의하여 최소화 가능\n",
        "    ero2(0,1,0)\n",
        "    ero1(1,1)\n",
        "    ero2(1,0,1)\n",
        "    print(\"해는 (x,y)=(%f,%f)입니다\"%(my_equ[0][2],my_equ[1][2]))\n",
        "  else:\n",
        "    ero1(0,0)\n",
        "    ero2(0,1,0)\n",
        "    ero1(1,1)\n",
        "    ero2(1,0,1)\n",
        "    print(\"해는 (x,y)=(%f,%f)입니다\"%(my_equ[0][2],my_equ[1][2]))\n",
        "   "
      ],
      "execution_count": null,
      "outputs": [
        {
          "output_type": "stream",
          "text": [
            "a를 입력해주세요3\n",
            "b를 입력해주세요6\n",
            "c를 입력해주세요1\n",
            "d를 입력해주세요7\n",
            "e를 입력해주세요2\n",
            "f를 입력해주세요5\n",
            "해는 (x,y)=(-1.066667,0.866667)입니다\n"
          ],
          "name": "stdout"
        }
      ]
    }
  ]
}