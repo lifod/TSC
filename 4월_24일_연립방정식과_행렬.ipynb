{
  "nbformat": 4,
  "nbformat_minor": 0,
  "metadata": {
    "colab": {
      "name": "4월 24일 연립방정식과 행렬.ipynb",
      "provenance": [],
      "collapsed_sections": [],
      "authorship_tag": "ABX9TyMDZ8C2iTBcb/u3ezodzpHl",
      "include_colab_link": true
    },
    "kernelspec": {
      "name": "python3",
      "display_name": "Python 3"
    }
  },
  "cells": [
    {
      "cell_type": "markdown",
      "metadata": {
        "id": "view-in-github",
        "colab_type": "text"
      },
      "source": [
        "<a href=\"https://colab.research.google.com/github/lifod/TSC/blob/main/4%EC%9B%94_24%EC%9D%BC_%EC%97%B0%EB%A6%BD%EB%B0%A9%EC%A0%95%EC%8B%9D%EA%B3%BC_%ED%96%89%EB%A0%AC.ipynb\" target=\"_parent\"><img src=\"https://colab.research.google.com/assets/colab-badge.svg\" alt=\"Open In Colab\"/></a>"
      ]
    },
    {
      "cell_type": "code",
      "metadata": {
        "colab": {
          "base_uri": "https://localhost:8080/"
        },
        "id": "GWIWkSiZHNeL",
        "outputId": "5291762e-0fe5-4468-e3db-3dd5b63b3aa6"
      },
      "source": [
        "print(\"Hello world\")\n",
        "\n",
        "print(\"방학은 언제 올까요?\")\n",
        "\n",
        "print(253)\n",
        "\n",
        "print(\"내 나이는\",20+15)"
      ],
      "execution_count": null,
      "outputs": [
        {
          "output_type": "stream",
          "text": [
            "Hello world\n",
            "방학은 언제 올까요?\n",
            "253\n",
            "내 나이는 35\n",
            "253\n"
          ],
          "name": "stdout"
        },
        {
          "output_type": "execute_result",
          "data": {
            "text/plain": [
              "str"
            ]
          },
          "metadata": {
            "tags": []
          },
          "execution_count": 4
        }
      ]
    },
    {
      "cell_type": "code",
      "metadata": {
        "colab": {
          "base_uri": "https://localhost:8080/"
        },
        "id": "yV0iKRdNNYE5",
        "outputId": "5553f968-d318-40a7-9bd3-98c9ec648857"
      },
      "source": [
        "print(4//3)\n",
        "\n",
        "print(5%3)\n",
        "\n",
        "print(3**5)"
      ],
      "execution_count": null,
      "outputs": [
        {
          "output_type": "stream",
          "text": [
            "1\n",
            "2\n",
            "243\n"
          ],
          "name": "stdout"
        }
      ]
    },
    {
      "cell_type": "code",
      "metadata": {
        "colab": {
          "base_uri": "https://localhost:8080/"
        },
        "id": "LmfZVwVsN02D",
        "outputId": "c13add40-5476-48a1-ddf1-ebdc00c34671"
      },
      "source": [
        "a=100\n",
        "\n",
        "a+=20   # a=a+20\n",
        "\n",
        "a-=10\n",
        "\n",
        "a*=10\n",
        "\n",
        "a/=5\n",
        "\n",
        "print(a)"
      ],
      "execution_count": null,
      "outputs": [
        {
          "output_type": "stream",
          "text": [
            "220.0\n"
          ],
          "name": "stdout"
        }
      ]
    },
    {
      "cell_type": "code",
      "metadata": {
        "colab": {
          "base_uri": "https://localhost:8080/"
        },
        "id": "vprh8j21OGLc",
        "outputId": "958781b7-74e7-46bf-f9e3-98f1a475dc5d"
      },
      "source": [
        "print(5==20)\n",
        "\n",
        "print(5!=20)\n",
        "\n",
        "print(10<100)\n",
        "\n",
        "print(5>=20)\n",
        "\n",
        "print(type(10<100))"
      ],
      "execution_count": null,
      "outputs": [
        {
          "output_type": "stream",
          "text": [
            "False\n",
            "True\n",
            "True\n",
            "False\n",
            "<class 'bool'>\n"
          ],
          "name": "stdout"
        }
      ]
    },
    {
      "cell_type": "code",
      "metadata": {
        "colab": {
          "base_uri": "https://localhost:8080/"
        },
        "id": "mLCtJegUOaFS",
        "outputId": "85333af5-e87f-43dc-a0b7-49ac7c9dc024"
      },
      "source": [
        "a=3.12\n",
        "\n",
        "print(a)\n",
        "\n",
        "b=2.41\n",
        "\n",
        "print(a+b)\n",
        "\n",
        "a='문자'\n",
        "\n",
        "print(a)\n",
        "\n",
        "c=float(input(\"원하는 숫자를 입력해주세요 : \"))\n",
        "\n",
        "print(b+c)\n",
        "\n",
        "print(type(b)); print(type(c))"
      ],
      "execution_count": null,
      "outputs": [
        {
          "output_type": "stream",
          "text": [
            "3.12\n",
            "5.53\n",
            "문자\n",
            "원하는 숫자를 입력해주세요 : 5\n",
            "7.41\n",
            "<class 'float'>\n",
            "<class 'float'>\n"
          ],
          "name": "stdout"
        }
      ]
    },
    {
      "cell_type": "code",
      "metadata": {
        "colab": {
          "base_uri": "https://localhost:8080/"
        },
        "id": "SxBSMprYQck9",
        "outputId": "76ca1797-d8bd-44ee-eb34-e7b6b5ad0c69"
      },
      "source": [
        "a='나이'\n",
        "b=33\n",
        "print('저의 %s는 %d살 입니다.'%(a,b))\n",
        "\n",
        "c=3.14\n",
        "print('단, 파이는 %.2f 입니다.'%c)       "
      ],
      "execution_count": null,
      "outputs": [
        {
          "output_type": "stream",
          "text": [
            "저의 나이는 33살 입니다.\n",
            "단, 파이는 3.14 입니다.\n"
          ],
          "name": "stdout"
        }
      ]
    },
    {
      "cell_type": "code",
      "metadata": {
        "colab": {
          "base_uri": "https://localhost:8080/"
        },
        "id": "GA_NhBxVSBbP",
        "outputId": "f8c06729-5747-4aa9-ffd4-7883c8c29c29"
      },
      "source": [
        "a=3\n",
        "if a>5:\n",
        "  print(\"a는 5보다 큽니다\")\n",
        "\n",
        "b=int(input(\"정수를 입력해주세요 : \"))\n",
        "\n",
        "if b>0:\n",
        "  print(\"b는 양수입니다\")\n",
        "if b<0:\n",
        "  print(\"b는 음수입니다\")\n",
        "if b==0:\n",
        "  print(\"b는 0입니다\")\n",
        "\n",
        "if b>0:\n",
        "  print(\"b는 양수입니다\")\n",
        "elif b<0:\n",
        "  print(\"b는 음수입니다\")\n",
        "if b==0:\n",
        "  print(\"b는 0입니다\")\n"
      ],
      "execution_count": null,
      "outputs": [
        {
          "output_type": "stream",
          "text": [
            "정수를 입력해주세요 : -21\n",
            "b는 음수입니다\n"
          ],
          "name": "stdout"
        }
      ]
    },
    {
      "cell_type": "code",
      "metadata": {
        "colab": {
          "base_uri": "https://localhost:8080/"
        },
        "id": "60r8B_XWY4k5",
        "outputId": "e0d8a6a5-bb87-4368-ccaa-b897c9f84a12"
      },
      "source": [
        "a=int(input(\"1이상의 정수를 입력해주세요 : \"))\n",
        "\n",
        "if a%2==0:\n",
        "  print(\"a는 짝수입니다\")\n",
        "\n",
        "else :\n",
        "  print(\"a는 홀수입니다\")"
      ],
      "execution_count": null,
      "outputs": [
        {
          "output_type": "stream",
          "text": [
            "1이상의 정수를 입력해주세요 : 9\n",
            "a는 홀수입니다\n"
          ],
          "name": "stdout"
        }
      ]
    },
    {
      "cell_type": "code",
      "metadata": {
        "colab": {
          "base_uri": "https://localhost:8080/"
        },
        "id": "d5D_zU-naQv3",
        "outputId": "5cd0798a-2cc4-437a-d2d3-2fc60b04763d"
      },
      "source": [
        "b=int(input(\"정수를 입력해주세요 : \"))\n",
        "\n",
        "if b>0:\n",
        "  print(\"b는 양수입니다\")\n",
        "elif b<0:\n",
        "  print(\"b는 음수입니다\")\n",
        "else:\n",
        "  print(\"b는 0입니다\")\n"
      ],
      "execution_count": null,
      "outputs": [
        {
          "output_type": "stream",
          "text": [
            "정수를 입력해주세요 : 4\n",
            "b는 양수입니다\n"
          ],
          "name": "stdout"
        }
      ]
    },
    {
      "cell_type": "code",
      "metadata": {
        "colab": {
          "base_uri": "https://localhost:8080/",
          "height": 35
        },
        "id": "2CWHz5BPa5--",
        "outputId": "fc828793-bb0a-4acf-9a95-2223ca981cf4"
      },
      "source": [
        "def xbox(x) :\n",
        "  if x>0:\n",
        "    return(\"x는 양수입니다\")\n",
        "  elif x<0:\n",
        "    return(\"x는 음수입니다\")\n",
        "  else:\n",
        "    return(\"x는 0입니다\")\n",
        "\n",
        "xbox(6)\n",
        "\n",
        "def equation(x):\n",
        "  y=x**2-3*x+2\n",
        "  return y\n",
        "\n",
        "equation(10)\n",
        "\n",
        "\n",
        "def my_int(n):\n",
        "  if n>0:\n",
        "    return(\"%d은 양수입니다\"%n)\n",
        "  elif n<0:\n",
        "    return(\"%d은 음수입니다\"%n)\n",
        "  else:\n",
        "    return(\"%d은 0입니다\"%n)\n",
        "\n",
        "my_int(-24)\n"
      ],
      "execution_count": null,
      "outputs": [
        {
          "output_type": "execute_result",
          "data": {
            "application/vnd.google.colaboratory.intrinsic+json": {
              "type": "string"
            },
            "text/plain": [
              "'-24은 음수입니다'"
            ]
          },
          "metadata": {
            "tags": []
          },
          "execution_count": 49
        }
      ]
    },
    {
      "cell_type": "code",
      "metadata": {
        "colab": {
          "base_uri": "https://localhost:8080/"
        },
        "id": "un4YzF-_dccN",
        "outputId": "5c4fa4d9-7f5b-460d-f678-9a86a5edeba8"
      },
      "source": [
        "my_variable=5\n",
        "\n",
        "def my_equation(x):\n",
        "  global my_variable\n",
        "  my_variable=my_variable+5\n",
        "  return my_variable\n",
        "\n",
        "my_equation(4)"
      ],
      "execution_count": null,
      "outputs": [
        {
          "output_type": "execute_result",
          "data": {
            "text/plain": [
              "10"
            ]
          },
          "metadata": {
            "tags": []
          },
          "execution_count": 52
        }
      ]
    },
    {
      "cell_type": "code",
      "metadata": {
        "colab": {
          "base_uri": "https://localhost:8080/"
        },
        "id": "5Mc3fNszesvn",
        "outputId": "99c053a4-9ded-4fbe-c22d-ae64d3a5065a"
      },
      "source": [
        "a=range(5)\n",
        "b=range(4)\n",
        "c=range(2,5)\n",
        "\n",
        "d=list(a)\n",
        "print(d)\n",
        "\n",
        "e=list(c)\n",
        "print(e)"
      ],
      "execution_count": null,
      "outputs": [
        {
          "output_type": "stream",
          "text": [
            "[0, 1, 2, 3, 4]\n",
            "[2, 3, 4]\n"
          ],
          "name": "stdout"
        }
      ]
    },
    {
      "cell_type": "code",
      "metadata": {
        "colab": {
          "base_uri": "https://localhost:8080/"
        },
        "id": "w2SsYDAZfRdt",
        "outputId": "fdfb6053-18a5-4798-8d03-febcb02934ef"
      },
      "source": [
        "a=[[1,2,3,4],\n",
        "   [5,6,7,8]]\n",
        "\n",
        "print(a[1][1:3])"
      ],
      "execution_count": null,
      "outputs": [
        {
          "output_type": "stream",
          "text": [
            "[6, 7]\n"
          ],
          "name": "stdout"
        }
      ]
    },
    {
      "cell_type": "code",
      "metadata": {
        "colab": {
          "base_uri": "https://localhost:8080/"
        },
        "id": "3OOJHF5pkMpV",
        "outputId": "a7414132-4b7a-4b15-98c7-a129049be7c0"
      },
      "source": [
        "import numpy as np\n",
        "\n",
        "a=np.array([[1,2,3,4],[5,6,7,8]])\n",
        "b=[[1,2,3,4],[5,6,7,8]]\n",
        "\n",
        "a+b"
      ],
      "execution_count": null,
      "outputs": [
        {
          "output_type": "execute_result",
          "data": {
            "text/plain": [
              "array([[ 2,  4,  6,  8],\n",
              "       [10, 12, 14, 16]])"
            ]
          },
          "metadata": {
            "tags": []
          },
          "execution_count": 99
        }
      ]
    },
    {
      "cell_type": "markdown",
      "metadata": {
        "id": "uBiYQCT2iHHb"
      },
      "source": [
        "###[1] 행렬의 원소가 될 a, b, c, d, e, f를 설정 [float, input 사용]\n"
      ]
    },
    {
      "cell_type": "code",
      "metadata": {
        "colab": {
          "base_uri": "https://localhost:8080/",
          "height": 556
        },
        "id": "lDo4_6cEiXjE",
        "outputId": "8beb1d80-6100-4c16-ebf0-aad6a448ed0a"
      },
      "source": [
        "a=float(input(\"a를 입력해주세요\"))\n",
        "b=float(input(\"b를 입력해주세요\"))\n",
        "c=float(input(\"c를 입력해주세요\"))\n",
        "d=float(input(\"d를 입력해주세요\"))\n",
        "e=float(input(\"e를 입력해주세요\"))\n",
        "f=float(input(\"f를 입력해주세요\"))"
      ],
      "execution_count": null,
      "outputs": [
        {
          "output_type": "error",
          "ename": "KeyboardInterrupt",
          "evalue": "ignored",
          "traceback": [
            "\u001b[0;31m---------------------------------------------------------------------------\u001b[0m",
            "\u001b[0;31mKeyboardInterrupt\u001b[0m                         Traceback (most recent call last)",
            "\u001b[0;32m/usr/local/lib/python3.7/dist-packages/ipykernel/kernelbase.py\u001b[0m in \u001b[0;36m_input_request\u001b[0;34m(self, prompt, ident, parent, password)\u001b[0m\n\u001b[1;32m    728\u001b[0m             \u001b[0;32mtry\u001b[0m\u001b[0;34m:\u001b[0m\u001b[0;34m\u001b[0m\u001b[0;34m\u001b[0m\u001b[0m\n\u001b[0;32m--> 729\u001b[0;31m                 \u001b[0mident\u001b[0m\u001b[0;34m,\u001b[0m \u001b[0mreply\u001b[0m \u001b[0;34m=\u001b[0m \u001b[0mself\u001b[0m\u001b[0;34m.\u001b[0m\u001b[0msession\u001b[0m\u001b[0;34m.\u001b[0m\u001b[0mrecv\u001b[0m\u001b[0;34m(\u001b[0m\u001b[0mself\u001b[0m\u001b[0;34m.\u001b[0m\u001b[0mstdin_socket\u001b[0m\u001b[0;34m,\u001b[0m \u001b[0;36m0\u001b[0m\u001b[0;34m)\u001b[0m\u001b[0;34m\u001b[0m\u001b[0;34m\u001b[0m\u001b[0m\n\u001b[0m\u001b[1;32m    730\u001b[0m             \u001b[0;32mexcept\u001b[0m \u001b[0mException\u001b[0m\u001b[0;34m:\u001b[0m\u001b[0;34m\u001b[0m\u001b[0;34m\u001b[0m\u001b[0m\n",
            "\u001b[0;32m/usr/local/lib/python3.7/dist-packages/jupyter_client/session.py\u001b[0m in \u001b[0;36mrecv\u001b[0;34m(self, socket, mode, content, copy)\u001b[0m\n\u001b[1;32m    802\u001b[0m         \u001b[0;32mtry\u001b[0m\u001b[0;34m:\u001b[0m\u001b[0;34m\u001b[0m\u001b[0;34m\u001b[0m\u001b[0m\n\u001b[0;32m--> 803\u001b[0;31m             \u001b[0mmsg_list\u001b[0m \u001b[0;34m=\u001b[0m \u001b[0msocket\u001b[0m\u001b[0;34m.\u001b[0m\u001b[0mrecv_multipart\u001b[0m\u001b[0;34m(\u001b[0m\u001b[0mmode\u001b[0m\u001b[0;34m,\u001b[0m \u001b[0mcopy\u001b[0m\u001b[0;34m=\u001b[0m\u001b[0mcopy\u001b[0m\u001b[0;34m)\u001b[0m\u001b[0;34m\u001b[0m\u001b[0;34m\u001b[0m\u001b[0m\n\u001b[0m\u001b[1;32m    804\u001b[0m         \u001b[0;32mexcept\u001b[0m \u001b[0mzmq\u001b[0m\u001b[0;34m.\u001b[0m\u001b[0mZMQError\u001b[0m \u001b[0;32mas\u001b[0m \u001b[0me\u001b[0m\u001b[0;34m:\u001b[0m\u001b[0;34m\u001b[0m\u001b[0;34m\u001b[0m\u001b[0m\n",
            "\u001b[0;32m/usr/local/lib/python3.7/dist-packages/zmq/sugar/socket.py\u001b[0m in \u001b[0;36mrecv_multipart\u001b[0;34m(self, flags, copy, track)\u001b[0m\n\u001b[1;32m    582\u001b[0m         \"\"\"\n\u001b[0;32m--> 583\u001b[0;31m         \u001b[0mparts\u001b[0m \u001b[0;34m=\u001b[0m \u001b[0;34m[\u001b[0m\u001b[0mself\u001b[0m\u001b[0;34m.\u001b[0m\u001b[0mrecv\u001b[0m\u001b[0;34m(\u001b[0m\u001b[0mflags\u001b[0m\u001b[0;34m,\u001b[0m \u001b[0mcopy\u001b[0m\u001b[0;34m=\u001b[0m\u001b[0mcopy\u001b[0m\u001b[0;34m,\u001b[0m \u001b[0mtrack\u001b[0m\u001b[0;34m=\u001b[0m\u001b[0mtrack\u001b[0m\u001b[0;34m)\u001b[0m\u001b[0;34m]\u001b[0m\u001b[0;34m\u001b[0m\u001b[0;34m\u001b[0m\u001b[0m\n\u001b[0m\u001b[1;32m    584\u001b[0m         \u001b[0;31m# have first part already, only loop while more to receive\u001b[0m\u001b[0;34m\u001b[0m\u001b[0;34m\u001b[0m\u001b[0;34m\u001b[0m\u001b[0m\n",
            "\u001b[0;32mzmq/backend/cython/socket.pyx\u001b[0m in \u001b[0;36mzmq.backend.cython.socket.Socket.recv\u001b[0;34m()\u001b[0m\n",
            "\u001b[0;32mzmq/backend/cython/socket.pyx\u001b[0m in \u001b[0;36mzmq.backend.cython.socket.Socket.recv\u001b[0;34m()\u001b[0m\n",
            "\u001b[0;32mzmq/backend/cython/socket.pyx\u001b[0m in \u001b[0;36mzmq.backend.cython.socket._recv_copy\u001b[0;34m()\u001b[0m\n",
            "\u001b[0;32m/usr/local/lib/python3.7/dist-packages/zmq/backend/cython/checkrc.pxd\u001b[0m in \u001b[0;36mzmq.backend.cython.checkrc._check_rc\u001b[0;34m()\u001b[0m\n",
            "\u001b[0;31mKeyboardInterrupt\u001b[0m: ",
            "\nDuring handling of the above exception, another exception occurred:\n",
            "\u001b[0;31mKeyboardInterrupt\u001b[0m                         Traceback (most recent call last)",
            "\u001b[0;32m<ipython-input-1-ea2c43bbb1f1>\u001b[0m in \u001b[0;36m<module>\u001b[0;34m()\u001b[0m\n\u001b[0;32m----> 1\u001b[0;31m \u001b[0ma\u001b[0m\u001b[0;34m=\u001b[0m\u001b[0mfloat\u001b[0m\u001b[0;34m(\u001b[0m\u001b[0minput\u001b[0m\u001b[0;34m(\u001b[0m\u001b[0;34m\"a를 입력해주세요\"\u001b[0m\u001b[0;34m)\u001b[0m\u001b[0;34m)\u001b[0m\u001b[0;34m\u001b[0m\u001b[0;34m\u001b[0m\u001b[0m\n\u001b[0m\u001b[1;32m      2\u001b[0m \u001b[0mb\u001b[0m\u001b[0;34m=\u001b[0m\u001b[0mfloat\u001b[0m\u001b[0;34m(\u001b[0m\u001b[0minput\u001b[0m\u001b[0;34m(\u001b[0m\u001b[0;34m\"b를 입력해주세요\"\u001b[0m\u001b[0;34m)\u001b[0m\u001b[0;34m)\u001b[0m\u001b[0;34m\u001b[0m\u001b[0;34m\u001b[0m\u001b[0m\n\u001b[1;32m      3\u001b[0m \u001b[0mc\u001b[0m\u001b[0;34m=\u001b[0m\u001b[0mfloat\u001b[0m\u001b[0;34m(\u001b[0m\u001b[0minput\u001b[0m\u001b[0;34m(\u001b[0m\u001b[0;34m\"c를 입력해주세요\"\u001b[0m\u001b[0;34m)\u001b[0m\u001b[0;34m)\u001b[0m\u001b[0;34m\u001b[0m\u001b[0;34m\u001b[0m\u001b[0m\n\u001b[1;32m      4\u001b[0m \u001b[0md\u001b[0m\u001b[0;34m=\u001b[0m\u001b[0mfloat\u001b[0m\u001b[0;34m(\u001b[0m\u001b[0minput\u001b[0m\u001b[0;34m(\u001b[0m\u001b[0;34m\"d를 입력해주세요\"\u001b[0m\u001b[0;34m)\u001b[0m\u001b[0;34m)\u001b[0m\u001b[0;34m\u001b[0m\u001b[0;34m\u001b[0m\u001b[0m\n\u001b[1;32m      5\u001b[0m \u001b[0me\u001b[0m\u001b[0;34m=\u001b[0m\u001b[0mfloat\u001b[0m\u001b[0;34m(\u001b[0m\u001b[0minput\u001b[0m\u001b[0;34m(\u001b[0m\u001b[0;34m\"e를 입력해주세요\"\u001b[0m\u001b[0;34m)\u001b[0m\u001b[0;34m)\u001b[0m\u001b[0;34m\u001b[0m\u001b[0;34m\u001b[0m\u001b[0m\n",
            "\u001b[0;32m/usr/local/lib/python3.7/dist-packages/ipykernel/kernelbase.py\u001b[0m in \u001b[0;36mraw_input\u001b[0;34m(self, prompt)\u001b[0m\n\u001b[1;32m    702\u001b[0m             \u001b[0mself\u001b[0m\u001b[0;34m.\u001b[0m\u001b[0m_parent_ident\u001b[0m\u001b[0;34m,\u001b[0m\u001b[0;34m\u001b[0m\u001b[0;34m\u001b[0m\u001b[0m\n\u001b[1;32m    703\u001b[0m             \u001b[0mself\u001b[0m\u001b[0;34m.\u001b[0m\u001b[0m_parent_header\u001b[0m\u001b[0;34m,\u001b[0m\u001b[0;34m\u001b[0m\u001b[0;34m\u001b[0m\u001b[0m\n\u001b[0;32m--> 704\u001b[0;31m             \u001b[0mpassword\u001b[0m\u001b[0;34m=\u001b[0m\u001b[0;32mFalse\u001b[0m\u001b[0;34m,\u001b[0m\u001b[0;34m\u001b[0m\u001b[0;34m\u001b[0m\u001b[0m\n\u001b[0m\u001b[1;32m    705\u001b[0m         )\n\u001b[1;32m    706\u001b[0m \u001b[0;34m\u001b[0m\u001b[0m\n",
            "\u001b[0;32m/usr/local/lib/python3.7/dist-packages/ipykernel/kernelbase.py\u001b[0m in \u001b[0;36m_input_request\u001b[0;34m(self, prompt, ident, parent, password)\u001b[0m\n\u001b[1;32m    732\u001b[0m             \u001b[0;32mexcept\u001b[0m \u001b[0mKeyboardInterrupt\u001b[0m\u001b[0;34m:\u001b[0m\u001b[0;34m\u001b[0m\u001b[0;34m\u001b[0m\u001b[0m\n\u001b[1;32m    733\u001b[0m                 \u001b[0;31m# re-raise KeyboardInterrupt, to truncate traceback\u001b[0m\u001b[0;34m\u001b[0m\u001b[0;34m\u001b[0m\u001b[0;34m\u001b[0m\u001b[0m\n\u001b[0;32m--> 734\u001b[0;31m                 \u001b[0;32mraise\u001b[0m \u001b[0mKeyboardInterrupt\u001b[0m\u001b[0;34m\u001b[0m\u001b[0;34m\u001b[0m\u001b[0m\n\u001b[0m\u001b[1;32m    735\u001b[0m             \u001b[0;32melse\u001b[0m\u001b[0;34m:\u001b[0m\u001b[0;34m\u001b[0m\u001b[0;34m\u001b[0m\u001b[0m\n\u001b[1;32m    736\u001b[0m                 \u001b[0;32mbreak\u001b[0m\u001b[0;34m\u001b[0m\u001b[0;34m\u001b[0m\u001b[0m\n",
            "\u001b[0;31mKeyboardInterrupt\u001b[0m: "
          ]
        }
      ]
    },
    {
      "cell_type": "markdown",
      "metadata": {
        "id": "dZJWMVWbigI8"
      },
      "source": [
        "###[2]numpy 모듈을 import한 후 numpy 배열로 행렬을 설정해주세요\n"
      ]
    },
    {
      "cell_type": "code",
      "metadata": {
        "id": "H0NytyLwjAbG",
        "colab": {
          "base_uri": "https://localhost:8080/"
        },
        "outputId": "eaba60f2-ad1e-4148-88ee-8cef085b47f7"
      },
      "source": [
        "import numpy as np \n",
        "\n",
        "my_equ=np.array([[a,b,e],\n",
        "                  [c,d,f]])   \n",
        "\n",
        "my_copy=np.array([[0,0,0],\n",
        "                  [0,0,0]]) \n"
      ],
      "execution_count": null,
      "outputs": [
        {
          "output_type": "stream",
          "text": [
            "[[1 1 1]\n",
            " [1 1 1]]\n"
          ],
          "name": "stdout"
        }
      ]
    },
    {
      "cell_type": "markdown",
      "metadata": {
        "id": "3SiBA-T6jHew"
      },
      "source": [
        "###[3]기본 행 연산을 수행할 수 있는 함수 3개를 만들어 주세요 "
      ]
    },
    {
      "cell_type": "code",
      "metadata": {
        "id": "eIa11MRojbI6"
      },
      "source": [
        "def ero1(x,y):     \n",
        "  global my_equ  \n",
        "  my_equ[x]=my_equ[x]*1/my_equ[x][y]  \n",
        "\n",
        "\n",
        "def ero2(x,y,z): \n",
        "  global my_equ \n",
        "  my_equ[y]=my_equ[y]-my_equ[x]*my_equ[y][z]  \n",
        "\n",
        "\n",
        "def ero3():       \n",
        "  global my_equ  \n",
        "  global my_copy \n",
        "  my_copy[0]=my_equ[1]\n",
        "  my_copy[1]=my_equ[0]\n",
        "  my_equ=my_copy          "
      ],
      "execution_count": null,
      "outputs": []
    },
    {
      "cell_type": "markdown",
      "metadata": {
        "id": "VsgF92m6uS7I"
      },
      "source": [
        "###[4]ad-bc, af-ce의 값에 따라 결정되는 해의 존재성을 구현하고 해가 존재할 경우 해를 표현해주세요"
      ]
    },
    {
      "cell_type": "code",
      "metadata": {
        "id": "tSyeRZwVuq4f"
      },
      "source": [
        "if a*d-b*c==0:\n",
        "\n",
        "  if a*f-c*e==0:\n",
        "    print(\"무수히 많은 해가 존재합니다.\")\n",
        "\n",
        "  else:\n",
        "    print(\"해가 존재하지 않습니다\")\n",
        "  \n",
        "else:\n",
        "  if a==0: \n",
        "    ero3()\n",
        "    ero1(0,0) \n",
        "    ero2(0,1,0)\n",
        "    ero1(1,1)\n",
        "    ero2(1,0,1)\n",
        "    print(\"해는 (x,y)=(%f,%f)입니다\"%(my_equ[0][2],my_equ[1][2]))\n",
        "  else:\n",
        "    ero1(0,0)\n",
        "    ero2(0,1,0)\n",
        "    ero1(1,1)\n",
        "    ero2(1,0,1)\n",
        "    print(\"해는 (x,y)=(%f,%f)입니다\"%(my_equ[0][2],my_equ[1][2]))"
      ],
      "execution_count": null,
      "outputs": []
    },
    {
      "cell_type": "markdown",
      "metadata": {
        "id": "e7kfUjS_uwu7"
      },
      "source": [
        "###최종 코드"
      ]
    },
    {
      "cell_type": "code",
      "metadata": {
        "colab": {
          "base_uri": "https://localhost:8080/"
        },
        "id": "QyoKtquQf2DB",
        "outputId": "28bc800f-0119-44b2-ea8f-e85e8eabe3bc"
      },
      "source": [
        "a=float(input(\"a를 입력해주세요\"))\n",
        "b=float(input(\"b를 입력해주세요\"))\n",
        "c=float(input(\"c를 입력해주세요\"))\n",
        "d=float(input(\"d를 입력해주세요\"))\n",
        "e=float(input(\"e를 입력해주세요\"))\n",
        "f=float(input(\"f를 입력해주세요\"))\n",
        "\n",
        "import numpy as np         #넘파이 라이브러리를 np로 import합니다(약칭)\n",
        "my_equ=np.array([[a,b,e],\n",
        "                  [c,d,f]])     #계수행렬에 상수항을 첨가한 행렬을 정의합니다.\n",
        "my_copy=np.array([[0,0,0],\n",
        "                  [0,0,0]])     # 영행렬 정의 - 행교환에서 사용하기 위해 \n",
        "\n",
        "def ero1(x,y):     #기본행연산 (곱)\n",
        "  global my_equ   #함수 외부에 있는 변수 설정\n",
        "  my_equ[x]=my_equ[x]*1/my_equ[x][y]  # x행을 (x,y)성분으로 나눈다.\n",
        "\n",
        "def ero2(x,y,z):  #기본행연산(한 행의 배수를 다른행에 더함)\n",
        "  global my_equ  #함수 외부에 있는 변수 설정\n",
        "  my_equ[y]=my_equ[y]-my_equ[x]*my_equ[y][z]  # x행에 (y,z)성분을 곱한 후 y행에서 뺀다.\n",
        "\n",
        "\n",
        "def ero3():       #기본행연산(두 행을 교환)\n",
        "  global my_equ  #함수 외부에 있는 변수 설정\n",
        "  global my_copy  #함수 외부에 있는 변수 설정\n",
        "  my_copy[0]=my_equ[1]\n",
        "  my_copy[1]=my_equ[0]\n",
        "  my_equ=my_copy            #영행렬에 바뀐 행을 저장 후 행렬로 다시 지정함.\n",
        "\n",
        "if a*d-b*c==0:\n",
        "\n",
        "  if a*f-c*e==0:\n",
        "    print(\"무수히 많은 해가 존재합니다.\")\n",
        "\n",
        "  else:\n",
        "    print(\"해가 존재하지 않습니다\")\n",
        "  \n",
        "else:\n",
        "  if a==0: \n",
        "    ero3()\n",
        "    ero1(0,0) #동일하게 반복되는 부분에 대한 함수를 새롭게 정의하여 최소화 가능\n",
        "    ero2(0,1,0)\n",
        "    ero1(1,1)\n",
        "    ero2(1,0,1)\n",
        "    print(\"해는 (x,y)=(%f,%f)입니다\"%(my_equ[0][2],my_equ[1][2]))\n",
        "  else:\n",
        "    ero1(0,0)\n",
        "    ero2(0,1,0)\n",
        "    ero1(1,1)\n",
        "    ero2(1,0,1)\n",
        "    print(\"해는 (x,y)=(%f,%f)입니다\"%(my_equ[0][2],my_equ[1][2]))\n",
        "   "
      ],
      "execution_count": null,
      "outputs": [
        {
          "output_type": "stream",
          "text": [
            "a를 입력해주세요3\n",
            "b를 입력해주세요6\n",
            "c를 입력해주세요1\n",
            "d를 입력해주세요7\n",
            "e를 입력해주세요2\n",
            "f를 입력해주세요5\n",
            "해는 (x,y)=(-1.066667,0.866667)입니다\n"
          ],
          "name": "stdout"
        }
      ]
    }
  ]
}