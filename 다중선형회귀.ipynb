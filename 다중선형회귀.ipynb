{
  "nbformat": 4,
  "nbformat_minor": 0,
  "metadata": {
    "colab": {
      "name": "다중선형회귀.ipynb",
      "provenance": [],
      "collapsed_sections": [],
      "authorship_tag": "ABX9TyOEI7HDPZ6nlXRPJ1TE0lM8",
      "include_colab_link": true
    },
    "kernelspec": {
      "name": "python3",
      "display_name": "Python 3"
    },
    "language_info": {
      "name": "python"
    }
  },
  "cells": [
    {
      "cell_type": "markdown",
      "metadata": {
        "id": "view-in-github",
        "colab_type": "text"
      },
      "source": [
        "<a href=\"https://colab.research.google.com/github/lifod/TSC/blob/main/%EB%8B%A4%EC%A4%91%EC%84%A0%ED%98%95%ED%9A%8C%EA%B7%80.ipynb\" target=\"_parent\"><img src=\"https://colab.research.google.com/assets/colab-badge.svg\" alt=\"Open In Colab\"/></a>"
      ]
    },
    {
      "cell_type": "code",
      "metadata": {
        "colab": {
          "base_uri": "https://localhost:8080/"
        },
        "id": "HvzWF4xemOFs",
        "outputId": "c30bc537-acb6-4550-a470-fb2f461d0ec0"
      },
      "source": [
        "from keras.models import Sequential\n",
        "from keras.layers import Dense\n",
        "import tensorflow as tf\n",
        "import numpy as np\n",
        "import pandas as pd\n",
        "from keras import optimizers\n",
        "\n",
        "tf.random.set_seed(1)\n",
        "np.random.seed(1)\n",
        "\n",
        "df=pd.read_csv('/content/housing.csv',encoding='cp949',header=None)\n",
        "\n",
        "database=df.values\n",
        "x=database[:,0:13]\n",
        "y=database[:,13]\n",
        "\n",
        "model=Sequential()\n",
        "\n",
        "model.add(Dense(30,input_dim=13,activation='relu'))\n",
        "model.add(Dense(8,activation='relu'))\n",
        "model.add(Dense(1,activation='linear'))\n",
        "\n",
        "\n",
        "model.compile(optimizer='adam',loss='mse')\n",
        "\n",
        "model.fit(x,y,epochs=300,batch_size=36,verbose=0,validation_split=0.2)\n",
        "\n",
        "a=model.predict(x).flatten()\n",
        "\n",
        "for i in range(10):\n",
        "  print(\"\\n 예측값 : {:.3f}, 실제값 : {}\".format(a[i],y[i]))\n"
      ],
      "execution_count": null,
      "outputs": [
        {
          "output_type": "stream",
          "text": [
            "\n",
            " 예측값 : 29.024, 실제값 : 24.0\n",
            "\n",
            " 예측값 : 24.578, 실제값 : 21.6\n",
            "\n",
            " 예측값 : 28.582, 실제값 : 34.7\n",
            "\n",
            " 예측값 : 29.763, 실제값 : 33.4\n",
            "\n",
            " 예측값 : 28.908, 실제값 : 36.2\n",
            "\n",
            " 예측값 : 27.309, 실제값 : 28.7\n",
            "\n",
            " 예측값 : 21.506, 실제값 : 22.9\n",
            "\n",
            " 예측값 : 18.720, 실제값 : 27.1\n",
            "\n",
            " 예측값 : 8.802, 실제값 : 16.5\n",
            "\n",
            " 예측값 : 17.389, 실제값 : 18.9\n"
          ],
          "name": "stdout"
        }
      ]
    }
  ]
}