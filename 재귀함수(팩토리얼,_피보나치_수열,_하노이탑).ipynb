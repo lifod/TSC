{
  "nbformat": 4,
  "nbformat_minor": 0,
  "metadata": {
    "colab": {
      "name": "재귀함수(팩토리얼, 피보나치 수열, 하노이탑).ipynb",
      "provenance": [],
      "collapsed_sections": [
        "y7EMFmf1UyVf",
        "gIREf2B_WkB_",
        "z-zfS6d1W6Ia",
        "3c4tZvInZAJH",
        "iDBRykgvZHgq",
        "ipJ_f2qHZS5M",
        "jtdkZ1NiZeMN",
        "E-HpMwtLafzf",
        "M6nrDliEbPiW",
        "xEpFbdTBdUWm",
        "R7QgrwvseW6G",
        "LP27OF9PfPe2",
        "Bz8IfhDDfpl8"
      ],
      "authorship_tag": "ABX9TyPU+UR4A65c2Bi+QSsV9Bv/",
      "include_colab_link": true
    },
    "kernelspec": {
      "name": "python3",
      "display_name": "Python 3"
    }
  },
  "cells": [
    {
      "cell_type": "markdown",
      "metadata": {
        "id": "view-in-github",
        "colab_type": "text"
      },
      "source": [
        "<a href=\"https://colab.research.google.com/github/lifod/TSC/blob/main/%EC%9E%AC%EA%B7%80%ED%95%A8%EC%88%98(%ED%8C%A9%ED%86%A0%EB%A6%AC%EC%96%BC%2C_%ED%94%BC%EB%B3%B4%EB%82%98%EC%B9%98_%EC%88%98%EC%97%B4%2C_%ED%95%98%EB%85%B8%EC%9D%B4%ED%83%91).ipynb\" target=\"_parent\"><img src=\"https://colab.research.google.com/assets/colab-badge.svg\" alt=\"Open In Colab\"/></a>"
      ]
    },
    {
      "cell_type": "markdown",
      "metadata": {
        "id": "y7EMFmf1UyVf"
      },
      "source": [
        "\r\n",
        "#  ▶print 함수\r\n",
        "\r\n",
        "*  print( ) 함수는 괄호안의 문자, 숫자를 출력하는 함수입니다. 문자는 반드시 큰(작은)따옴표로 표시해줘야 합니다. \r\n",
        "\r\n",
        "\r\n",
        "\r\n",
        "*  숫자는 그냥 입력해도 출력됩니다. (문자열과 숫자의 연산을 동시에 출력할 때는 ,로 따로 구분해야합니다.)\r\n",
        "\r\n",
        "\r\n",
        "\r\n",
        "\r\n",
        "\r\n",
        "\r\n"
      ]
    },
    {
      "cell_type": "code",
      "metadata": {
        "colab": {
          "base_uri": "https://localhost:8080/"
        },
        "id": "D58Leq1HWL4D",
        "outputId": "6928b6c6-4307-47cd-a1f7-84067a3eeeac"
      },
      "source": [
        "print(\"Hello world\")\r\n",
        "\r\n",
        "print(\"오늘은 10월 9일 한글날 휴일(?)입니다\")\r\n",
        "\r\n",
        "print(253)\r\n",
        "\r\n",
        "print(\"내 나이는\",20+14)"
      ],
      "execution_count": null,
      "outputs": [
        {
          "output_type": "stream",
          "text": [
            "Hello world\n",
            "오늘은 10월 9일 한글날 휴일(?)입니다\n",
            "253\n",
            "내 나이는 34\n"
          ],
          "name": "stdout"
        }
      ]
    },
    {
      "cell_type": "markdown",
      "metadata": {
        "id": "gIREf2B_WkB_"
      },
      "source": [
        "\r\n",
        "#▶숫자 연산자\r\n",
        "\r\n",
        "*  파이썬에서 수를 계산할 때 사용되는 연산자(덧셈, 뺄셈, 곱셈, 나눗셈, 몫, 나머지, 제곱)\r\n",
        "\r\n",
        "\r\n"
      ]
    },
    {
      "cell_type": "code",
      "metadata": {
        "id": "SNaMQ-EvWiKU"
      },
      "source": [
        "print(3+3)\r\n",
        "\r\n",
        "print(3-4)\r\n",
        "\r\n",
        "print(3*4)\r\n",
        "\r\n",
        "print(3/3)\r\n",
        "\r\n",
        "print(4//3)\r\n",
        "\r\n",
        "print(5%3)\r\n",
        "\r\n",
        "print(5**3)"
      ],
      "execution_count": null,
      "outputs": []
    },
    {
      "cell_type": "markdown",
      "metadata": {
        "id": "z-zfS6d1W6Ia"
      },
      "source": [
        "#▶ 복합 대입 연산자\r\n",
        "\r\n",
        "*  연산을 한 후 값을 다시 변수로 지정하는 연산"
      ]
    },
    {
      "cell_type": "code",
      "metadata": {
        "id": "OTAljj8NXCT4"
      },
      "source": [
        "a=100\r\n",
        "\r\n",
        "a+=20 \r\n",
        "print(a)\r\n",
        "\r\n",
        "a-=10\r\n",
        "print(a)\r\n",
        "\r\n",
        "a*=10       \r\n",
        "print(a)\r\n",
        "\r\n",
        "a/=5\r\n",
        "print(a)"
      ],
      "execution_count": null,
      "outputs": []
    },
    {
      "cell_type": "markdown",
      "metadata": {
        "id": "3c4tZvInZAJH"
      },
      "source": [
        "#▶ 비교 연산자\r\n",
        "\r\n",
        "*  숫자를 비교하여 참, 거짓을 만들 수 있는 연산자"
      ]
    },
    {
      "cell_type": "code",
      "metadata": {
        "id": "LXFtWNLHZGiV"
      },
      "source": [
        "print(5==20)\r\n",
        "\r\n",
        "print(5!=2)\r\n",
        "\r\n",
        "print(10<100)\r\n",
        "\r\n",
        "print(5>=20)"
      ],
      "execution_count": null,
      "outputs": []
    },
    {
      "cell_type": "markdown",
      "metadata": {
        "id": "iDBRykgvZHgq"
      },
      "source": [
        "#▶ 변수 선언\r\n",
        "\r\n",
        "*  기본적으로 등호를 사용한 방법과 input(  )함수를 사용한 방법이 있다. \r\n",
        "\r\n",
        "\r\n",
        "\r\n",
        "\r\n"
      ]
    },
    {
      "cell_type": "code",
      "metadata": {
        "id": "YAQQ10NbZRFJ"
      },
      "source": [
        "a=3.12\r\n",
        "print(a)\r\n",
        "\r\n",
        "b=2.41\r\n",
        "print(b)\r\n",
        "\r\n",
        "print(a+b)\r\n",
        "\r\n",
        "c=int(input(\"원하는 숫자를 입력해주세요 :\"))\r\n",
        "\r\n",
        "print(b+c)\r\n",
        "\r\n"
      ],
      "execution_count": null,
      "outputs": []
    },
    {
      "cell_type": "markdown",
      "metadata": {
        "id": "ipJ_f2qHZS5M"
      },
      "source": [
        "#▶ 자료형\r\n",
        "\r\n",
        "*  문자열, int자료형(정수), float자료형(실수) \r\n",
        "\r\n",
        "\r\n",
        "---\r\n",
        "위에서 오류가 난 이유는 input함수로 지정한 값의 자료형은 무조건 문자열이기 때문이다. \r\n",
        "\r\n",
        "이를 숫자로 인식하여 계산하고 싶다면 int함수(또는 float)를 사용해 자료형을 바꿔줘야한다.\r\n"
      ]
    },
    {
      "cell_type": "code",
      "metadata": {
        "id": "KmuXKbr6Zc3l"
      },
      "source": [
        "b=2.41\r\n",
        "c=int(input(\"원하는 숫자를 입력해주세요 :\"))\r\n",
        "print(b+c)\r\n"
      ],
      "execution_count": null,
      "outputs": []
    },
    {
      "cell_type": "markdown",
      "metadata": {
        "id": "jtdkZ1NiZeMN"
      },
      "source": [
        "#▶ if 조건문\r\n",
        "\r\n",
        "*  조건이 True(참)일 경우 아래 문장을 실행합니다. \r\n",
        "\r\n",
        "---\r\n",
        "기본 구조\r\n",
        "\r\n",
        "if 참, 거짓을 판별할 수 있는 표현식 : (콜론을 반드시 붙여줘야함)\r\n",
        "         표현식이 참일 때 실행할 문장1\r\n",
        "         표현식이 참일 때 실행할 문장2\r\n",
        "1. 위에서 밑줄친 표현식이 참일 때 아래 문장이 실행됩니다. \r\n",
        "2. 표현식 옆에 콜론은 반드시 붙여야 합니다.\r\n",
        "3. 아래 참일 때 실행할 문장은 4칸 들여쓰기 후 입력합니다\r\n",
        "(스튜디오(IDE, 쥬피터)에서 엔터를 누르면 자동으로 들여쓰기 합니다) \r\n"
      ]
    },
    {
      "cell_type": "code",
      "metadata": {
        "id": "lymJMaEGaZ5S"
      },
      "source": [
        "a=6\r\n",
        "if a>5 :\r\n",
        "    print(\"a는 5보다 큽니다\")\r\n",
        "\r\n",
        "b=int(input(\"숫자를 입력해 주세요\"))\r\n",
        "if b>0:\r\n",
        "    print(\"b는 양수입니다\")\r\n",
        "\r\n",
        "if b<0:\r\n",
        "    print(\"b는 음수입니다\")\r\n",
        "\r\n",
        "if b==0:\r\n",
        "    print(\"b는 0입니다\")"
      ],
      "execution_count": null,
      "outputs": []
    },
    {
      "cell_type": "markdown",
      "metadata": {
        "id": "E-HpMwtLafzf"
      },
      "source": [
        "#▶ if 조건문\r\n",
        "\r\n",
        "*  else : 만약 if 의 조건문이 거짓이면 실행됩니다.\r\n",
        "*  elif : 만약 if의 조건문이 거짓일 때 elif 조건문이 참이면 실행됩니다.\r\n",
        "\r\n"
      ]
    },
    {
      "cell_type": "code",
      "metadata": {
        "colab": {
          "base_uri": "https://localhost:8080/"
        },
        "id": "q-3YwYN9bBiN",
        "outputId": "82088f2b-dcad-4537-d430-a6ce89f03827"
      },
      "source": [
        "a=int(input(\"1이상의 정수 입력 >\"))\r\n",
        "\r\n",
        "if a%2==0:\r\n",
        "    print(\"짝수입니다\")\r\n",
        "\r\n",
        "else:\r\n",
        "    print(\"홀수입니다\")\r\n",
        "\r\n",
        "\r\n",
        "\r\n",
        "b=int(input(\"숫자를 입력해 주세요\"))\r\n",
        "if b>0:\r\n",
        "    print(\"b는 양수입니다\")\r\n",
        "\r\n",
        "elif b<0:\r\n",
        "    print(\"b는 음수입니다\")\r\n",
        "\r\n",
        "elif b==0:\r\n",
        "    print(\"b는 0입니다\")\r\n",
        "\r\n",
        "    "
      ],
      "execution_count": null,
      "outputs": [
        {
          "output_type": "stream",
          "text": [
            "1이상의 정수 입력 >4\n",
            "짝수입니다\n",
            "숫자를 입력해 주세요12\n",
            "b는 양수입니다\n"
          ],
          "name": "stdout"
        }
      ]
    },
    {
      "cell_type": "markdown",
      "metadata": {
        "id": "M6nrDliEbPiW"
      },
      "source": [
        "#▶ 함수\r\n",
        "\r\n",
        "* def      함수이름     (변수)   : \r\n",
        "   \r\n",
        "   함수에 포함할 문장(코드)\r\n",
        "   \r\n",
        "   return \r\n",
        "\r\n",
        "한번 정의한 후 필요에 따라 사용할 수 있다는 장점이 있다. \r\n",
        "\r\n"
      ]
    },
    {
      "cell_type": "code",
      "metadata": {
        "colab": {
          "base_uri": "https://localhost:8080/"
        },
        "id": "29ndabvHb58L",
        "outputId": "45928542-9306-4716-8174-349b9352a096"
      },
      "source": [
        "def equation(x) :\r\n",
        "  y=x**2-4*x+5\r\n",
        "  print(y)\r\n",
        "\r\n",
        "equation(3)\r\n"
      ],
      "execution_count": null,
      "outputs": [
        {
          "output_type": "stream",
          "text": [
            "2\n"
          ],
          "name": "stdout"
        }
      ]
    },
    {
      "cell_type": "code",
      "metadata": {
        "colab": {
          "base_uri": "https://localhost:8080/"
        },
        "id": "OSnMK6GLcG1V",
        "outputId": "a69dbc1c-ae3d-4147-e65f-d1d10e2cd712"
      },
      "source": [
        "b=int(input(\"숫자를 입력해 주세요\"))\r\n",
        "\r\n",
        "if b>0 :\r\n",
        "  print(\"b는 양수입니다\")\r\n",
        "\r\n",
        "if b<0 :\r\n",
        "  print(\"b는 음수입니다\")\r\n",
        "\r\n",
        "if b==0 :\r\n",
        "    print(\"b는 0입니다\")\r\n",
        "\r\n",
        "\r\n",
        "#를 함수로 정의하면 다음과 같다.\r\n",
        "\r\n",
        "def my_int(n):\r\n",
        "  if n>0 :\r\n",
        "    print(n,\"는 양수입니다\")  \r\n",
        "\r\n",
        "  elif n<0:\r\n",
        "    print(n,\"은 음수입니다\")\r\n",
        "\r\n",
        "  else :\r\n",
        "    print(n,\"은 0입니다\")\r\n",
        "\r\n",
        "my_int(-2)\r\n",
        "\r\n"
      ],
      "execution_count": null,
      "outputs": [
        {
          "output_type": "stream",
          "text": [
            "숫자를 입력해 주세요20\n",
            "b는 양수입니다\n",
            "-2 은 음수입니다\n"
          ],
          "name": "stdout"
        }
      ]
    },
    {
      "cell_type": "markdown",
      "metadata": {
        "id": "xEpFbdTBdUWm"
      },
      "source": [
        "#▶ 함수의 변수\r\n",
        "\r\n",
        "* 함수를 정의했을 때, 함수 외부에 있는 함수에서 인식하게 하려면 다음과 같은 구문이 필요하다\r\n",
        "\r\n",
        "   global 변수\r\n"
      ]
    },
    {
      "cell_type": "code",
      "metadata": {
        "colab": {
          "base_uri": "https://localhost:8080/",
          "height": 373
        },
        "id": "UwqR4fIZdsik",
        "outputId": "3e5eedf8-6620-4c04-c382-232f6f92ccc1"
      },
      "source": [
        "# 아래와 같이 입력하면 원하는 값이 나올까요?\r\n",
        "my_variable=5\r\n",
        "\r\n",
        "def my_equation(x):\r\n",
        "  my_variable=x+my_variable\r\n",
        "  return my_variable\r\n",
        "\r\n",
        "my_equation(6)\r\n",
        "\r\n",
        "\r\n",
        "# my_variable는 함수 밖에서 정의된 변수이기 때문에 함수 안에서 사용하기 위해선 다음과 같이 해야합니다.\r\n",
        "\r\n",
        "my_variable=5\r\n",
        "\r\n",
        "def my_equation(x):\r\n",
        "  global my_variable\r\n",
        "  my_variable=x+my_variable\r\n",
        "  return my_variable\r\n",
        "\r\n",
        "my_equation(6)\r\n"
      ],
      "execution_count": null,
      "outputs": [
        {
          "output_type": "error",
          "ename": "UnboundLocalError",
          "evalue": "ignored",
          "traceback": [
            "\u001b[0;31m---------------------------------------------------------------------------\u001b[0m",
            "\u001b[0;31mUnboundLocalError\u001b[0m                         Traceback (most recent call last)",
            "\u001b[0;32m<ipython-input-14-c8ff4b2efdd2>\u001b[0m in \u001b[0;36m<module>\u001b[0;34m()\u001b[0m\n\u001b[1;32m      6\u001b[0m   \u001b[0;32mreturn\u001b[0m \u001b[0mmy_variable\u001b[0m\u001b[0;34m\u001b[0m\u001b[0;34m\u001b[0m\u001b[0m\n\u001b[1;32m      7\u001b[0m \u001b[0;34m\u001b[0m\u001b[0m\n\u001b[0;32m----> 8\u001b[0;31m \u001b[0mmy_equation\u001b[0m\u001b[0;34m(\u001b[0m\u001b[0;36m6\u001b[0m\u001b[0;34m)\u001b[0m\u001b[0;34m\u001b[0m\u001b[0;34m\u001b[0m\u001b[0m\n\u001b[0m\u001b[1;32m      9\u001b[0m \u001b[0;34m\u001b[0m\u001b[0m\n\u001b[1;32m     10\u001b[0m \u001b[0;34m\u001b[0m\u001b[0m\n",
            "\u001b[0;32m<ipython-input-14-c8ff4b2efdd2>\u001b[0m in \u001b[0;36mmy_equation\u001b[0;34m(x)\u001b[0m\n\u001b[1;32m      3\u001b[0m \u001b[0;34m\u001b[0m\u001b[0m\n\u001b[1;32m      4\u001b[0m \u001b[0;32mdef\u001b[0m \u001b[0mmy_equation\u001b[0m\u001b[0;34m(\u001b[0m\u001b[0mx\u001b[0m\u001b[0;34m)\u001b[0m\u001b[0;34m:\u001b[0m\u001b[0;34m\u001b[0m\u001b[0;34m\u001b[0m\u001b[0m\n\u001b[0;32m----> 5\u001b[0;31m   \u001b[0mmy_variable\u001b[0m\u001b[0;34m=\u001b[0m\u001b[0mx\u001b[0m\u001b[0;34m+\u001b[0m\u001b[0mmy_variable\u001b[0m\u001b[0;34m\u001b[0m\u001b[0;34m\u001b[0m\u001b[0m\n\u001b[0m\u001b[1;32m      6\u001b[0m   \u001b[0;32mreturn\u001b[0m \u001b[0mmy_variable\u001b[0m\u001b[0;34m\u001b[0m\u001b[0;34m\u001b[0m\u001b[0m\n\u001b[1;32m      7\u001b[0m \u001b[0;34m\u001b[0m\u001b[0m\n",
            "\u001b[0;31mUnboundLocalError\u001b[0m: local variable 'my_variable' referenced before assignment"
          ]
        }
      ]
    },
    {
      "cell_type": "markdown",
      "metadata": {
        "id": "R7QgrwvseW6G"
      },
      "source": [
        "#▶ 팩토리얼\r\n",
        "\r\n",
        "\r\n",
        "\r\n",
        "\r\n",
        "\r\n",
        "\r\n"
      ]
    },
    {
      "cell_type": "code",
      "metadata": {
        "id": "G6gkEbOrfOIL"
      },
      "source": [
        ""
      ],
      "execution_count": null,
      "outputs": []
    },
    {
      "cell_type": "markdown",
      "metadata": {
        "id": "LP27OF9PfPe2"
      },
      "source": [
        "#▶ 피보나치수열\r\n"
      ]
    },
    {
      "cell_type": "code",
      "metadata": {
        "id": "nCi-0RtBfo68"
      },
      "source": [
        ""
      ],
      "execution_count": null,
      "outputs": []
    },
    {
      "cell_type": "markdown",
      "metadata": {
        "id": "Bz8IfhDDfpl8"
      },
      "source": [
        "#▶ 하노이 탑"
      ]
    },
    {
      "cell_type": "code",
      "metadata": {
        "colab": {
          "base_uri": "https://localhost:8080/"
        },
        "id": "2AzSd8Mf4mVH",
        "outputId": "a6d0839e-252b-4dbd-fbea-7f377e459924"
      },
      "source": [
        "def hanoi(n,시작,보조,목표):\r\n",
        "  if n==1:\r\n",
        "    print(시작, \"->\" ,목표)\r\n",
        "    \r\n",
        "  else :\r\n",
        "    hanoi(n-1,시작,목표,보조)\r\n",
        "    print(시작,\"->\",목표)\r\n",
        "    hanoi(n-1,보조,시작,목표)\r\n",
        "\r\n",
        "hanoi(4,1,2,3)\r\n",
        "  "
      ],
      "execution_count": null,
      "outputs": [
        {
          "output_type": "stream",
          "text": [
            "1 -> 2\n",
            "1 -> 3\n",
            "2 -> 3\n",
            "1 -> 2\n",
            "3 -> 1\n",
            "3 -> 2\n",
            "1 -> 2\n",
            "1 -> 3\n",
            "2 -> 3\n",
            "2 -> 1\n",
            "3 -> 1\n",
            "2 -> 3\n",
            "1 -> 2\n",
            "1 -> 3\n",
            "2 -> 3\n"
          ],
          "name": "stdout"
        }
      ]
    },
    {
      "cell_type": "code",
      "metadata": {
        "colab": {
          "base_uri": "https://localhost:8080/"
        },
        "id": "g4uV5gLobu-J",
        "outputId": "94784ca1-a907-4781-db84-62d39375f934"
      },
      "source": [
        "counter=0\r\n",
        "\r\n",
        "def hanoi(n,시작,보조,목표):\r\n",
        "  global counter\r\n",
        "  counter+=1\r\n",
        "\r\n",
        "  if n==1:\r\n",
        "    print(시작, \"->\" ,목표)\r\n",
        "    \r\n",
        "  else :\r\n",
        "    hanoi(n-1,시작,목표,보조)\r\n",
        "    print(시작,\"->\",목표)\r\n",
        "    hanoi(n-1,보조,시작,목표)\r\n",
        "\r\n",
        "hanoi(4,1,2,3)\r\n",
        "print(counter)\r\n"
      ],
      "execution_count": null,
      "outputs": [
        {
          "output_type": "stream",
          "text": [
            "1 -> 2\n",
            "1 -> 3\n",
            "2 -> 3\n",
            "1 -> 2\n",
            "3 -> 1\n",
            "3 -> 2\n",
            "1 -> 2\n",
            "1 -> 3\n",
            "2 -> 3\n",
            "2 -> 1\n",
            "3 -> 1\n",
            "2 -> 3\n",
            "1 -> 2\n",
            "1 -> 3\n",
            "2 -> 3\n",
            "15\n"
          ],
          "name": "stdout"
        }
      ]
    }
  ]
}